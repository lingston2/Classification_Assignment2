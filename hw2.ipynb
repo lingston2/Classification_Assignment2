{
  "nbformat": 4,
  "nbformat_minor": 0,
  "metadata": {
    "colab": {
      "provenance": [],
      "toc_visible": true
    },
    "kernelspec": {
      "name": "python3",
      "display_name": "Python 3"
    },
    "language_info": {
      "name": "python"
    }
  },
  "cells": [
    {
      "cell_type": "code",
      "source": [
        "from google.colab import drive\n",
        "drive.mount('/content/drive')"
      ],
      "metadata": {
        "colab": {
          "base_uri": "https://localhost:8080/"
        },
        "id": "-NzLuYS6pwUv",
        "outputId": "14ca2b47-c2e2-4b5d-dacd-85e476b1d6f9"
      },
      "execution_count": 1,
      "outputs": [
        {
          "output_type": "stream",
          "name": "stdout",
          "text": [
            "Mounted at /content/drive\n"
          ]
        }
      ]
    },
    {
      "cell_type": "markdown",
      "source": [
        "# **HW 2: Classification**\n",
        "In *homework 2*, you need to finish:\n",
        "\n",
        "1.  Basic Part:\n",
        "\n",
        "> *   Step 1: Load the input Data\n",
        "> *   Step 2: Implement Naive Bayesian classifier\n",
        "> *   Step 3: Build the classifier and check the correctness of Table building\n",
        "> *   Step 4: Split Data\n",
        "> *   Step 5: Make prediction and perform evaluation\n",
        "> *   Step 6: Generate results\n",
        "\n",
        "2.  Advanced Part:\n",
        "\n",
        "> *   Step 1: Load the input Data\n",
        "> *   Step 2: Implement Gaussian Naive Bayesian classifier\n",
        "> *   Step 3: Build the classifier and check the correctness of Table building\n",
        "> *   Step 4 Improve the classifier for Ranking\n",
        "> *   Step 5: Make prediction and perform evaluation\n",
        "> *   Step 6: Generate results"
      ],
      "metadata": {
        "id": "7gCDMiNJVDAS"
      }
    },
    {
      "cell_type": "markdown",
      "source": [
        "# **1. Basic Part (55%)**\n",
        "In the first part, you need to implement the Naive Bayesian classifier:\n",
        "- input features: ***9 physiological features***\n",
        "- output prediction: ***hospital_death***"
      ],
      "metadata": {
        "id": "7iSLeN98WAGM"
      }
    },
    {
      "cell_type": "markdown",
      "source": [
        "## *Import Packages*\n",
        "\n",
        "> Note: You **cannot** import any other package"
      ],
      "metadata": {
        "id": "FLGnqdEnXT20"
      }
    },
    {
      "cell_type": "code",
      "source": [
        "import numpy as np\n",
        "import pandas as pd\n",
        "import csv\n",
        "import math\n",
        "import random\n",
        "import pickle"
      ],
      "metadata": {
        "id": "ROPDPsjdXpSf"
      },
      "execution_count": 2,
      "outputs": []
    },
    {
      "cell_type": "markdown",
      "source": [
        "## Global attributes\n",
        "> You can add your own global attributes here\n"
      ],
      "metadata": {
        "id": "yLeI_t2PAEPe"
      }
    },
    {
      "cell_type": "code",
      "source": [],
      "metadata": {
        "id": "bBWtZJPLAIdJ"
      },
      "execution_count": null,
      "outputs": []
    },
    {
      "cell_type": "markdown",
      "source": [
        "## Step 1: Load the input Data\n",
        "Load the input file **hw2_basic_training.csv**\n",
        "\n",
        "> Note: please don't change the input var name ***training_df, testing_df, X, and y***."
      ],
      "metadata": {
        "id": "UjMH9mAIXnAU"
      }
    },
    {
      "cell_type": "code",
      "source": [
        "# TODO: modify your file path\n",
        "training_df = pd.read_csv('/content/drive/MyDrive/IntroToMachineLearning/Assignment2/hw2_basic_training.csv')\n",
        "# /content/drive/MyDrive/IntroToMachineLearning/Assignment2/hw2_basic_training.csv\n",
        "testing_df = pd.read_csv('/content/drive/MyDrive/IntroToMachineLearning/Assignment2/hw2_basic_testing.csv')\n",
        "# /content/drive/MyDrive/IntroToMachineLearning/Assignment2/hw2_basic_testing.csv\n",
        "y = training_df['hospital_death']\n",
        "X = training_df.drop('hospital_death', axis=1)"
      ],
      "metadata": {
        "id": "yDh8Ah9RY3z0"
      },
      "execution_count": 4,
      "outputs": []
    },
    {
      "cell_type": "markdown",
      "source": [
        "you can take a look at the input feature & ground truth format:"
      ],
      "metadata": {
        "id": "Sr06keeMWKKu"
      }
    },
    {
      "cell_type": "code",
      "source": [
        "testing_df"
      ],
      "metadata": {
        "colab": {
          "base_uri": "https://localhost:8080/",
          "height": 444
        },
        "id": "zaO5mcgpBC5Z",
        "outputId": "36aec0fb-8b7b-41b0-c652-ce164eb113f0"
      },
      "execution_count": 5,
      "outputs": [
        {
          "output_type": "execute_result",
          "data": {
            "text/plain": [
              "      ventilated_apache  gcs_eyes_apache  gcs_motor_apache  gcs_verbal_apache  \\\n",
              "0                     0                4                 6                  5   \n",
              "1                     1                3                 5                  1   \n",
              "2                     0                4                 6                  5   \n",
              "3                     0                3                 5                  4   \n",
              "4                     0                4                 6                  5   \n",
              "...                 ...              ...               ...                ...   \n",
              "9807                  0                3                 5                  3   \n",
              "9808                  1                4                 6                  5   \n",
              "9809                  0                4                 6                  5   \n",
              "9810                  0                3                 6                  4   \n",
              "9811                  0                3                 6                  5   \n",
              "\n",
              "      albumin_apache  bilirubin_apache  bun_apache  creatinine_apache  \\\n",
              "0                  0                 0           0                  0   \n",
              "1                  0                 0           0                  0   \n",
              "2                  0                 0           0                  0   \n",
              "3                  0                 0           0                  0   \n",
              "4                  0                 0           1                  1   \n",
              "...              ...               ...         ...                ...   \n",
              "9807               1                 1           1                  1   \n",
              "9808               1                 1           1                  1   \n",
              "9809               1                 1           1                  1   \n",
              "9810               0                 0           1                  1   \n",
              "9811               0                 0           0                  1   \n",
              "\n",
              "      fio2_apache  \n",
              "0               0  \n",
              "1               0  \n",
              "2               0  \n",
              "3               1  \n",
              "4               0  \n",
              "...           ...  \n",
              "9807            0  \n",
              "9808            1  \n",
              "9809            0  \n",
              "9810            1  \n",
              "9811            0  \n",
              "\n",
              "[9812 rows x 9 columns]"
            ],
            "text/html": [
              "\n",
              "  <div id=\"df-b0ac26ce-3051-4f5e-a2c4-04338075b59d\" class=\"colab-df-container\">\n",
              "    <div>\n",
              "<style scoped>\n",
              "    .dataframe tbody tr th:only-of-type {\n",
              "        vertical-align: middle;\n",
              "    }\n",
              "\n",
              "    .dataframe tbody tr th {\n",
              "        vertical-align: top;\n",
              "    }\n",
              "\n",
              "    .dataframe thead th {\n",
              "        text-align: right;\n",
              "    }\n",
              "</style>\n",
              "<table border=\"1\" class=\"dataframe\">\n",
              "  <thead>\n",
              "    <tr style=\"text-align: right;\">\n",
              "      <th></th>\n",
              "      <th>ventilated_apache</th>\n",
              "      <th>gcs_eyes_apache</th>\n",
              "      <th>gcs_motor_apache</th>\n",
              "      <th>gcs_verbal_apache</th>\n",
              "      <th>albumin_apache</th>\n",
              "      <th>bilirubin_apache</th>\n",
              "      <th>bun_apache</th>\n",
              "      <th>creatinine_apache</th>\n",
              "      <th>fio2_apache</th>\n",
              "    </tr>\n",
              "  </thead>\n",
              "  <tbody>\n",
              "    <tr>\n",
              "      <th>0</th>\n",
              "      <td>0</td>\n",
              "      <td>4</td>\n",
              "      <td>6</td>\n",
              "      <td>5</td>\n",
              "      <td>0</td>\n",
              "      <td>0</td>\n",
              "      <td>0</td>\n",
              "      <td>0</td>\n",
              "      <td>0</td>\n",
              "    </tr>\n",
              "    <tr>\n",
              "      <th>1</th>\n",
              "      <td>1</td>\n",
              "      <td>3</td>\n",
              "      <td>5</td>\n",
              "      <td>1</td>\n",
              "      <td>0</td>\n",
              "      <td>0</td>\n",
              "      <td>0</td>\n",
              "      <td>0</td>\n",
              "      <td>0</td>\n",
              "    </tr>\n",
              "    <tr>\n",
              "      <th>2</th>\n",
              "      <td>0</td>\n",
              "      <td>4</td>\n",
              "      <td>6</td>\n",
              "      <td>5</td>\n",
              "      <td>0</td>\n",
              "      <td>0</td>\n",
              "      <td>0</td>\n",
              "      <td>0</td>\n",
              "      <td>0</td>\n",
              "    </tr>\n",
              "    <tr>\n",
              "      <th>3</th>\n",
              "      <td>0</td>\n",
              "      <td>3</td>\n",
              "      <td>5</td>\n",
              "      <td>4</td>\n",
              "      <td>0</td>\n",
              "      <td>0</td>\n",
              "      <td>0</td>\n",
              "      <td>0</td>\n",
              "      <td>1</td>\n",
              "    </tr>\n",
              "    <tr>\n",
              "      <th>4</th>\n",
              "      <td>0</td>\n",
              "      <td>4</td>\n",
              "      <td>6</td>\n",
              "      <td>5</td>\n",
              "      <td>0</td>\n",
              "      <td>0</td>\n",
              "      <td>1</td>\n",
              "      <td>1</td>\n",
              "      <td>0</td>\n",
              "    </tr>\n",
              "    <tr>\n",
              "      <th>...</th>\n",
              "      <td>...</td>\n",
              "      <td>...</td>\n",
              "      <td>...</td>\n",
              "      <td>...</td>\n",
              "      <td>...</td>\n",
              "      <td>...</td>\n",
              "      <td>...</td>\n",
              "      <td>...</td>\n",
              "      <td>...</td>\n",
              "    </tr>\n",
              "    <tr>\n",
              "      <th>9807</th>\n",
              "      <td>0</td>\n",
              "      <td>3</td>\n",
              "      <td>5</td>\n",
              "      <td>3</td>\n",
              "      <td>1</td>\n",
              "      <td>1</td>\n",
              "      <td>1</td>\n",
              "      <td>1</td>\n",
              "      <td>0</td>\n",
              "    </tr>\n",
              "    <tr>\n",
              "      <th>9808</th>\n",
              "      <td>1</td>\n",
              "      <td>4</td>\n",
              "      <td>6</td>\n",
              "      <td>5</td>\n",
              "      <td>1</td>\n",
              "      <td>1</td>\n",
              "      <td>1</td>\n",
              "      <td>1</td>\n",
              "      <td>1</td>\n",
              "    </tr>\n",
              "    <tr>\n",
              "      <th>9809</th>\n",
              "      <td>0</td>\n",
              "      <td>4</td>\n",
              "      <td>6</td>\n",
              "      <td>5</td>\n",
              "      <td>1</td>\n",
              "      <td>1</td>\n",
              "      <td>1</td>\n",
              "      <td>1</td>\n",
              "      <td>0</td>\n",
              "    </tr>\n",
              "    <tr>\n",
              "      <th>9810</th>\n",
              "      <td>0</td>\n",
              "      <td>3</td>\n",
              "      <td>6</td>\n",
              "      <td>4</td>\n",
              "      <td>0</td>\n",
              "      <td>0</td>\n",
              "      <td>1</td>\n",
              "      <td>1</td>\n",
              "      <td>1</td>\n",
              "    </tr>\n",
              "    <tr>\n",
              "      <th>9811</th>\n",
              "      <td>0</td>\n",
              "      <td>3</td>\n",
              "      <td>6</td>\n",
              "      <td>5</td>\n",
              "      <td>0</td>\n",
              "      <td>0</td>\n",
              "      <td>0</td>\n",
              "      <td>1</td>\n",
              "      <td>0</td>\n",
              "    </tr>\n",
              "  </tbody>\n",
              "</table>\n",
              "<p>9812 rows × 9 columns</p>\n",
              "</div>\n",
              "    <div class=\"colab-df-buttons\">\n",
              "\n",
              "  <div class=\"colab-df-container\">\n",
              "    <button class=\"colab-df-convert\" onclick=\"convertToInteractive('df-b0ac26ce-3051-4f5e-a2c4-04338075b59d')\"\n",
              "            title=\"Convert this dataframe to an interactive table.\"\n",
              "            style=\"display:none;\">\n",
              "\n",
              "  <svg xmlns=\"http://www.w3.org/2000/svg\" height=\"24px\" viewBox=\"0 -960 960 960\">\n",
              "    <path d=\"M120-120v-720h720v720H120Zm60-500h600v-160H180v160Zm220 220h160v-160H400v160Zm0 220h160v-160H400v160ZM180-400h160v-160H180v160Zm440 0h160v-160H620v160ZM180-180h160v-160H180v160Zm440 0h160v-160H620v160Z\"/>\n",
              "  </svg>\n",
              "    </button>\n",
              "\n",
              "  <style>\n",
              "    .colab-df-container {\n",
              "      display:flex;\n",
              "      gap: 12px;\n",
              "    }\n",
              "\n",
              "    .colab-df-convert {\n",
              "      background-color: #E8F0FE;\n",
              "      border: none;\n",
              "      border-radius: 50%;\n",
              "      cursor: pointer;\n",
              "      display: none;\n",
              "      fill: #1967D2;\n",
              "      height: 32px;\n",
              "      padding: 0 0 0 0;\n",
              "      width: 32px;\n",
              "    }\n",
              "\n",
              "    .colab-df-convert:hover {\n",
              "      background-color: #E2EBFA;\n",
              "      box-shadow: 0px 1px 2px rgba(60, 64, 67, 0.3), 0px 1px 3px 1px rgba(60, 64, 67, 0.15);\n",
              "      fill: #174EA6;\n",
              "    }\n",
              "\n",
              "    .colab-df-buttons div {\n",
              "      margin-bottom: 4px;\n",
              "    }\n",
              "\n",
              "    [theme=dark] .colab-df-convert {\n",
              "      background-color: #3B4455;\n",
              "      fill: #D2E3FC;\n",
              "    }\n",
              "\n",
              "    [theme=dark] .colab-df-convert:hover {\n",
              "      background-color: #434B5C;\n",
              "      box-shadow: 0px 1px 3px 1px rgba(0, 0, 0, 0.15);\n",
              "      filter: drop-shadow(0px 1px 2px rgba(0, 0, 0, 0.3));\n",
              "      fill: #FFFFFF;\n",
              "    }\n",
              "  </style>\n",
              "\n",
              "    <script>\n",
              "      const buttonEl =\n",
              "        document.querySelector('#df-b0ac26ce-3051-4f5e-a2c4-04338075b59d button.colab-df-convert');\n",
              "      buttonEl.style.display =\n",
              "        google.colab.kernel.accessAllowed ? 'block' : 'none';\n",
              "\n",
              "      async function convertToInteractive(key) {\n",
              "        const element = document.querySelector('#df-b0ac26ce-3051-4f5e-a2c4-04338075b59d');\n",
              "        const dataTable =\n",
              "          await google.colab.kernel.invokeFunction('convertToInteractive',\n",
              "                                                    [key], {});\n",
              "        if (!dataTable) return;\n",
              "\n",
              "        const docLinkHtml = 'Like what you see? Visit the ' +\n",
              "          '<a target=\"_blank\" href=https://colab.research.google.com/notebooks/data_table.ipynb>data table notebook</a>'\n",
              "          + ' to learn more about interactive tables.';\n",
              "        element.innerHTML = '';\n",
              "        dataTable['output_type'] = 'display_data';\n",
              "        await google.colab.output.renderOutput(dataTable, element);\n",
              "        const docLink = document.createElement('div');\n",
              "        docLink.innerHTML = docLinkHtml;\n",
              "        element.appendChild(docLink);\n",
              "      }\n",
              "    </script>\n",
              "  </div>\n",
              "\n",
              "\n",
              "<div id=\"df-15b8fabc-26ed-4e87-ad7f-035ed9a4cce1\">\n",
              "  <button class=\"colab-df-quickchart\" onclick=\"quickchart('df-15b8fabc-26ed-4e87-ad7f-035ed9a4cce1')\"\n",
              "            title=\"Suggest charts.\"\n",
              "            style=\"display:none;\">\n",
              "\n",
              "<svg xmlns=\"http://www.w3.org/2000/svg\" height=\"24px\"viewBox=\"0 0 24 24\"\n",
              "     width=\"24px\">\n",
              "    <g>\n",
              "        <path d=\"M19 3H5c-1.1 0-2 .9-2 2v14c0 1.1.9 2 2 2h14c1.1 0 2-.9 2-2V5c0-1.1-.9-2-2-2zM9 17H7v-7h2v7zm4 0h-2V7h2v10zm4 0h-2v-4h2v4z\"/>\n",
              "    </g>\n",
              "</svg>\n",
              "  </button>\n",
              "\n",
              "<style>\n",
              "  .colab-df-quickchart {\n",
              "      --bg-color: #E8F0FE;\n",
              "      --fill-color: #1967D2;\n",
              "      --hover-bg-color: #E2EBFA;\n",
              "      --hover-fill-color: #174EA6;\n",
              "      --disabled-fill-color: #AAA;\n",
              "      --disabled-bg-color: #DDD;\n",
              "  }\n",
              "\n",
              "  [theme=dark] .colab-df-quickchart {\n",
              "      --bg-color: #3B4455;\n",
              "      --fill-color: #D2E3FC;\n",
              "      --hover-bg-color: #434B5C;\n",
              "      --hover-fill-color: #FFFFFF;\n",
              "      --disabled-bg-color: #3B4455;\n",
              "      --disabled-fill-color: #666;\n",
              "  }\n",
              "\n",
              "  .colab-df-quickchart {\n",
              "    background-color: var(--bg-color);\n",
              "    border: none;\n",
              "    border-radius: 50%;\n",
              "    cursor: pointer;\n",
              "    display: none;\n",
              "    fill: var(--fill-color);\n",
              "    height: 32px;\n",
              "    padding: 0;\n",
              "    width: 32px;\n",
              "  }\n",
              "\n",
              "  .colab-df-quickchart:hover {\n",
              "    background-color: var(--hover-bg-color);\n",
              "    box-shadow: 0 1px 2px rgba(60, 64, 67, 0.3), 0 1px 3px 1px rgba(60, 64, 67, 0.15);\n",
              "    fill: var(--button-hover-fill-color);\n",
              "  }\n",
              "\n",
              "  .colab-df-quickchart-complete:disabled,\n",
              "  .colab-df-quickchart-complete:disabled:hover {\n",
              "    background-color: var(--disabled-bg-color);\n",
              "    fill: var(--disabled-fill-color);\n",
              "    box-shadow: none;\n",
              "  }\n",
              "\n",
              "  .colab-df-spinner {\n",
              "    border: 2px solid var(--fill-color);\n",
              "    border-color: transparent;\n",
              "    border-bottom-color: var(--fill-color);\n",
              "    animation:\n",
              "      spin 1s steps(1) infinite;\n",
              "  }\n",
              "\n",
              "  @keyframes spin {\n",
              "    0% {\n",
              "      border-color: transparent;\n",
              "      border-bottom-color: var(--fill-color);\n",
              "      border-left-color: var(--fill-color);\n",
              "    }\n",
              "    20% {\n",
              "      border-color: transparent;\n",
              "      border-left-color: var(--fill-color);\n",
              "      border-top-color: var(--fill-color);\n",
              "    }\n",
              "    30% {\n",
              "      border-color: transparent;\n",
              "      border-left-color: var(--fill-color);\n",
              "      border-top-color: var(--fill-color);\n",
              "      border-right-color: var(--fill-color);\n",
              "    }\n",
              "    40% {\n",
              "      border-color: transparent;\n",
              "      border-right-color: var(--fill-color);\n",
              "      border-top-color: var(--fill-color);\n",
              "    }\n",
              "    60% {\n",
              "      border-color: transparent;\n",
              "      border-right-color: var(--fill-color);\n",
              "    }\n",
              "    80% {\n",
              "      border-color: transparent;\n",
              "      border-right-color: var(--fill-color);\n",
              "      border-bottom-color: var(--fill-color);\n",
              "    }\n",
              "    90% {\n",
              "      border-color: transparent;\n",
              "      border-bottom-color: var(--fill-color);\n",
              "    }\n",
              "  }\n",
              "</style>\n",
              "\n",
              "  <script>\n",
              "    async function quickchart(key) {\n",
              "      const quickchartButtonEl =\n",
              "        document.querySelector('#' + key + ' button');\n",
              "      quickchartButtonEl.disabled = true;  // To prevent multiple clicks.\n",
              "      quickchartButtonEl.classList.add('colab-df-spinner');\n",
              "      try {\n",
              "        const charts = await google.colab.kernel.invokeFunction(\n",
              "            'suggestCharts', [key], {});\n",
              "      } catch (error) {\n",
              "        console.error('Error during call to suggestCharts:', error);\n",
              "      }\n",
              "      quickchartButtonEl.classList.remove('colab-df-spinner');\n",
              "      quickchartButtonEl.classList.add('colab-df-quickchart-complete');\n",
              "    }\n",
              "    (() => {\n",
              "      let quickchartButtonEl =\n",
              "        document.querySelector('#df-15b8fabc-26ed-4e87-ad7f-035ed9a4cce1 button');\n",
              "      quickchartButtonEl.style.display =\n",
              "        google.colab.kernel.accessAllowed ? 'block' : 'none';\n",
              "    })();\n",
              "  </script>\n",
              "</div>\n",
              "    </div>\n",
              "  </div>\n"
            ]
          },
          "metadata": {},
          "execution_count": 5
        }
      ]
    },
    {
      "cell_type": "code",
      "source": [
        " X[:10]"
      ],
      "metadata": {
        "id": "V0pbarO8ja0F",
        "colab": {
          "base_uri": "https://localhost:8080/",
          "height": 363
        },
        "outputId": "428dffc9-edb1-4b63-96ba-8e5d99acbf59"
      },
      "execution_count": null,
      "outputs": [
        {
          "output_type": "execute_result",
          "data": {
            "text/plain": [
              "   ventilated_apache  gcs_eyes_apache  gcs_motor_apache  gcs_verbal_apache  \\\n",
              "0                  1                4                 6                  1   \n",
              "1                  0                4                 6                  4   \n",
              "2                  0                4                 6                  5   \n",
              "3                  0                3                 6                  4   \n",
              "4                  1                3                 3                  1   \n",
              "5                  0                4                 6                  5   \n",
              "6                  1                4                 6                  5   \n",
              "7                  0                4                 6                  5   \n",
              "8                  1                4                 6                  5   \n",
              "9                  0                4                 6                  5   \n",
              "\n",
              "   albumin_apache  bilirubin_apache  bun_apache  creatinine_apache  \\\n",
              "0               0                 0           1                  1   \n",
              "1               1                 1           1                  1   \n",
              "2               0                 0           0                  0   \n",
              "3               0                 0           1                  1   \n",
              "4               0                 0           1                  1   \n",
              "5               0                 0           0                  0   \n",
              "6               0                 0           1                  1   \n",
              "7               1                 1           1                  1   \n",
              "8               0                 0           0                  0   \n",
              "9               1                 1           1                  1   \n",
              "\n",
              "   fio2_apache  \n",
              "0            1  \n",
              "1            0  \n",
              "2            0  \n",
              "3            0  \n",
              "4            1  \n",
              "5            0  \n",
              "6            1  \n",
              "7            0  \n",
              "8            0  \n",
              "9            0  "
            ],
            "text/html": [
              "\n",
              "  <div id=\"df-06660a58-40a1-4c2a-9139-809f75236b2c\" class=\"colab-df-container\">\n",
              "    <div>\n",
              "<style scoped>\n",
              "    .dataframe tbody tr th:only-of-type {\n",
              "        vertical-align: middle;\n",
              "    }\n",
              "\n",
              "    .dataframe tbody tr th {\n",
              "        vertical-align: top;\n",
              "    }\n",
              "\n",
              "    .dataframe thead th {\n",
              "        text-align: right;\n",
              "    }\n",
              "</style>\n",
              "<table border=\"1\" class=\"dataframe\">\n",
              "  <thead>\n",
              "    <tr style=\"text-align: right;\">\n",
              "      <th></th>\n",
              "      <th>ventilated_apache</th>\n",
              "      <th>gcs_eyes_apache</th>\n",
              "      <th>gcs_motor_apache</th>\n",
              "      <th>gcs_verbal_apache</th>\n",
              "      <th>albumin_apache</th>\n",
              "      <th>bilirubin_apache</th>\n",
              "      <th>bun_apache</th>\n",
              "      <th>creatinine_apache</th>\n",
              "      <th>fio2_apache</th>\n",
              "    </tr>\n",
              "  </thead>\n",
              "  <tbody>\n",
              "    <tr>\n",
              "      <th>0</th>\n",
              "      <td>1</td>\n",
              "      <td>4</td>\n",
              "      <td>6</td>\n",
              "      <td>1</td>\n",
              "      <td>0</td>\n",
              "      <td>0</td>\n",
              "      <td>1</td>\n",
              "      <td>1</td>\n",
              "      <td>1</td>\n",
              "    </tr>\n",
              "    <tr>\n",
              "      <th>1</th>\n",
              "      <td>0</td>\n",
              "      <td>4</td>\n",
              "      <td>6</td>\n",
              "      <td>4</td>\n",
              "      <td>1</td>\n",
              "      <td>1</td>\n",
              "      <td>1</td>\n",
              "      <td>1</td>\n",
              "      <td>0</td>\n",
              "    </tr>\n",
              "    <tr>\n",
              "      <th>2</th>\n",
              "      <td>0</td>\n",
              "      <td>4</td>\n",
              "      <td>6</td>\n",
              "      <td>5</td>\n",
              "      <td>0</td>\n",
              "      <td>0</td>\n",
              "      <td>0</td>\n",
              "      <td>0</td>\n",
              "      <td>0</td>\n",
              "    </tr>\n",
              "    <tr>\n",
              "      <th>3</th>\n",
              "      <td>0</td>\n",
              "      <td>3</td>\n",
              "      <td>6</td>\n",
              "      <td>4</td>\n",
              "      <td>0</td>\n",
              "      <td>0</td>\n",
              "      <td>1</td>\n",
              "      <td>1</td>\n",
              "      <td>0</td>\n",
              "    </tr>\n",
              "    <tr>\n",
              "      <th>4</th>\n",
              "      <td>1</td>\n",
              "      <td>3</td>\n",
              "      <td>3</td>\n",
              "      <td>1</td>\n",
              "      <td>0</td>\n",
              "      <td>0</td>\n",
              "      <td>1</td>\n",
              "      <td>1</td>\n",
              "      <td>1</td>\n",
              "    </tr>\n",
              "    <tr>\n",
              "      <th>5</th>\n",
              "      <td>0</td>\n",
              "      <td>4</td>\n",
              "      <td>6</td>\n",
              "      <td>5</td>\n",
              "      <td>0</td>\n",
              "      <td>0</td>\n",
              "      <td>0</td>\n",
              "      <td>0</td>\n",
              "      <td>0</td>\n",
              "    </tr>\n",
              "    <tr>\n",
              "      <th>6</th>\n",
              "      <td>1</td>\n",
              "      <td>4</td>\n",
              "      <td>6</td>\n",
              "      <td>5</td>\n",
              "      <td>0</td>\n",
              "      <td>0</td>\n",
              "      <td>1</td>\n",
              "      <td>1</td>\n",
              "      <td>1</td>\n",
              "    </tr>\n",
              "    <tr>\n",
              "      <th>7</th>\n",
              "      <td>0</td>\n",
              "      <td>4</td>\n",
              "      <td>6</td>\n",
              "      <td>5</td>\n",
              "      <td>1</td>\n",
              "      <td>1</td>\n",
              "      <td>1</td>\n",
              "      <td>1</td>\n",
              "      <td>0</td>\n",
              "    </tr>\n",
              "    <tr>\n",
              "      <th>8</th>\n",
              "      <td>1</td>\n",
              "      <td>4</td>\n",
              "      <td>6</td>\n",
              "      <td>5</td>\n",
              "      <td>0</td>\n",
              "      <td>0</td>\n",
              "      <td>0</td>\n",
              "      <td>0</td>\n",
              "      <td>0</td>\n",
              "    </tr>\n",
              "    <tr>\n",
              "      <th>9</th>\n",
              "      <td>0</td>\n",
              "      <td>4</td>\n",
              "      <td>6</td>\n",
              "      <td>5</td>\n",
              "      <td>1</td>\n",
              "      <td>1</td>\n",
              "      <td>1</td>\n",
              "      <td>1</td>\n",
              "      <td>0</td>\n",
              "    </tr>\n",
              "  </tbody>\n",
              "</table>\n",
              "</div>\n",
              "    <div class=\"colab-df-buttons\">\n",
              "\n",
              "  <div class=\"colab-df-container\">\n",
              "    <button class=\"colab-df-convert\" onclick=\"convertToInteractive('df-06660a58-40a1-4c2a-9139-809f75236b2c')\"\n",
              "            title=\"Convert this dataframe to an interactive table.\"\n",
              "            style=\"display:none;\">\n",
              "\n",
              "  <svg xmlns=\"http://www.w3.org/2000/svg\" height=\"24px\" viewBox=\"0 -960 960 960\">\n",
              "    <path d=\"M120-120v-720h720v720H120Zm60-500h600v-160H180v160Zm220 220h160v-160H400v160Zm0 220h160v-160H400v160ZM180-400h160v-160H180v160Zm440 0h160v-160H620v160ZM180-180h160v-160H180v160Zm440 0h160v-160H620v160Z\"/>\n",
              "  </svg>\n",
              "    </button>\n",
              "\n",
              "  <style>\n",
              "    .colab-df-container {\n",
              "      display:flex;\n",
              "      gap: 12px;\n",
              "    }\n",
              "\n",
              "    .colab-df-convert {\n",
              "      background-color: #E8F0FE;\n",
              "      border: none;\n",
              "      border-radius: 50%;\n",
              "      cursor: pointer;\n",
              "      display: none;\n",
              "      fill: #1967D2;\n",
              "      height: 32px;\n",
              "      padding: 0 0 0 0;\n",
              "      width: 32px;\n",
              "    }\n",
              "\n",
              "    .colab-df-convert:hover {\n",
              "      background-color: #E2EBFA;\n",
              "      box-shadow: 0px 1px 2px rgba(60, 64, 67, 0.3), 0px 1px 3px 1px rgba(60, 64, 67, 0.15);\n",
              "      fill: #174EA6;\n",
              "    }\n",
              "\n",
              "    .colab-df-buttons div {\n",
              "      margin-bottom: 4px;\n",
              "    }\n",
              "\n",
              "    [theme=dark] .colab-df-convert {\n",
              "      background-color: #3B4455;\n",
              "      fill: #D2E3FC;\n",
              "    }\n",
              "\n",
              "    [theme=dark] .colab-df-convert:hover {\n",
              "      background-color: #434B5C;\n",
              "      box-shadow: 0px 1px 3px 1px rgba(0, 0, 0, 0.15);\n",
              "      filter: drop-shadow(0px 1px 2px rgba(0, 0, 0, 0.3));\n",
              "      fill: #FFFFFF;\n",
              "    }\n",
              "  </style>\n",
              "\n",
              "    <script>\n",
              "      const buttonEl =\n",
              "        document.querySelector('#df-06660a58-40a1-4c2a-9139-809f75236b2c button.colab-df-convert');\n",
              "      buttonEl.style.display =\n",
              "        google.colab.kernel.accessAllowed ? 'block' : 'none';\n",
              "\n",
              "      async function convertToInteractive(key) {\n",
              "        const element = document.querySelector('#df-06660a58-40a1-4c2a-9139-809f75236b2c');\n",
              "        const dataTable =\n",
              "          await google.colab.kernel.invokeFunction('convertToInteractive',\n",
              "                                                    [key], {});\n",
              "        if (!dataTable) return;\n",
              "\n",
              "        const docLinkHtml = 'Like what you see? Visit the ' +\n",
              "          '<a target=\"_blank\" href=https://colab.research.google.com/notebooks/data_table.ipynb>data table notebook</a>'\n",
              "          + ' to learn more about interactive tables.';\n",
              "        element.innerHTML = '';\n",
              "        dataTable['output_type'] = 'display_data';\n",
              "        await google.colab.output.renderOutput(dataTable, element);\n",
              "        const docLink = document.createElement('div');\n",
              "        docLink.innerHTML = docLinkHtml;\n",
              "        element.appendChild(docLink);\n",
              "      }\n",
              "    </script>\n",
              "  </div>\n",
              "\n",
              "\n",
              "<div id=\"df-dc98b46b-681e-428e-991c-1d6146de0204\">\n",
              "  <button class=\"colab-df-quickchart\" onclick=\"quickchart('df-dc98b46b-681e-428e-991c-1d6146de0204')\"\n",
              "            title=\"Suggest charts.\"\n",
              "            style=\"display:none;\">\n",
              "\n",
              "<svg xmlns=\"http://www.w3.org/2000/svg\" height=\"24px\"viewBox=\"0 0 24 24\"\n",
              "     width=\"24px\">\n",
              "    <g>\n",
              "        <path d=\"M19 3H5c-1.1 0-2 .9-2 2v14c0 1.1.9 2 2 2h14c1.1 0 2-.9 2-2V5c0-1.1-.9-2-2-2zM9 17H7v-7h2v7zm4 0h-2V7h2v10zm4 0h-2v-4h2v4z\"/>\n",
              "    </g>\n",
              "</svg>\n",
              "  </button>\n",
              "\n",
              "<style>\n",
              "  .colab-df-quickchart {\n",
              "      --bg-color: #E8F0FE;\n",
              "      --fill-color: #1967D2;\n",
              "      --hover-bg-color: #E2EBFA;\n",
              "      --hover-fill-color: #174EA6;\n",
              "      --disabled-fill-color: #AAA;\n",
              "      --disabled-bg-color: #DDD;\n",
              "  }\n",
              "\n",
              "  [theme=dark] .colab-df-quickchart {\n",
              "      --bg-color: #3B4455;\n",
              "      --fill-color: #D2E3FC;\n",
              "      --hover-bg-color: #434B5C;\n",
              "      --hover-fill-color: #FFFFFF;\n",
              "      --disabled-bg-color: #3B4455;\n",
              "      --disabled-fill-color: #666;\n",
              "  }\n",
              "\n",
              "  .colab-df-quickchart {\n",
              "    background-color: var(--bg-color);\n",
              "    border: none;\n",
              "    border-radius: 50%;\n",
              "    cursor: pointer;\n",
              "    display: none;\n",
              "    fill: var(--fill-color);\n",
              "    height: 32px;\n",
              "    padding: 0;\n",
              "    width: 32px;\n",
              "  }\n",
              "\n",
              "  .colab-df-quickchart:hover {\n",
              "    background-color: var(--hover-bg-color);\n",
              "    box-shadow: 0 1px 2px rgba(60, 64, 67, 0.3), 0 1px 3px 1px rgba(60, 64, 67, 0.15);\n",
              "    fill: var(--button-hover-fill-color);\n",
              "  }\n",
              "\n",
              "  .colab-df-quickchart-complete:disabled,\n",
              "  .colab-df-quickchart-complete:disabled:hover {\n",
              "    background-color: var(--disabled-bg-color);\n",
              "    fill: var(--disabled-fill-color);\n",
              "    box-shadow: none;\n",
              "  }\n",
              "\n",
              "  .colab-df-spinner {\n",
              "    border: 2px solid var(--fill-color);\n",
              "    border-color: transparent;\n",
              "    border-bottom-color: var(--fill-color);\n",
              "    animation:\n",
              "      spin 1s steps(1) infinite;\n",
              "  }\n",
              "\n",
              "  @keyframes spin {\n",
              "    0% {\n",
              "      border-color: transparent;\n",
              "      border-bottom-color: var(--fill-color);\n",
              "      border-left-color: var(--fill-color);\n",
              "    }\n",
              "    20% {\n",
              "      border-color: transparent;\n",
              "      border-left-color: var(--fill-color);\n",
              "      border-top-color: var(--fill-color);\n",
              "    }\n",
              "    30% {\n",
              "      border-color: transparent;\n",
              "      border-left-color: var(--fill-color);\n",
              "      border-top-color: var(--fill-color);\n",
              "      border-right-color: var(--fill-color);\n",
              "    }\n",
              "    40% {\n",
              "      border-color: transparent;\n",
              "      border-right-color: var(--fill-color);\n",
              "      border-top-color: var(--fill-color);\n",
              "    }\n",
              "    60% {\n",
              "      border-color: transparent;\n",
              "      border-right-color: var(--fill-color);\n",
              "    }\n",
              "    80% {\n",
              "      border-color: transparent;\n",
              "      border-right-color: var(--fill-color);\n",
              "      border-bottom-color: var(--fill-color);\n",
              "    }\n",
              "    90% {\n",
              "      border-color: transparent;\n",
              "      border-bottom-color: var(--fill-color);\n",
              "    }\n",
              "  }\n",
              "</style>\n",
              "\n",
              "  <script>\n",
              "    async function quickchart(key) {\n",
              "      const quickchartButtonEl =\n",
              "        document.querySelector('#' + key + ' button');\n",
              "      quickchartButtonEl.disabled = true;  // To prevent multiple clicks.\n",
              "      quickchartButtonEl.classList.add('colab-df-spinner');\n",
              "      try {\n",
              "        const charts = await google.colab.kernel.invokeFunction(\n",
              "            'suggestCharts', [key], {});\n",
              "      } catch (error) {\n",
              "        console.error('Error during call to suggestCharts:', error);\n",
              "      }\n",
              "      quickchartButtonEl.classList.remove('colab-df-spinner');\n",
              "      quickchartButtonEl.classList.add('colab-df-quickchart-complete');\n",
              "    }\n",
              "    (() => {\n",
              "      let quickchartButtonEl =\n",
              "        document.querySelector('#df-dc98b46b-681e-428e-991c-1d6146de0204 button');\n",
              "      quickchartButtonEl.style.display =\n",
              "        google.colab.kernel.accessAllowed ? 'block' : 'none';\n",
              "    })();\n",
              "  </script>\n",
              "</div>\n",
              "    </div>\n",
              "  </div>\n"
            ]
          },
          "metadata": {},
          "execution_count": 4
        }
      ]
    },
    {
      "cell_type": "code",
      "source": [
        "y[:10]"
      ],
      "metadata": {
        "id": "LxvHkm1XjbUh",
        "colab": {
          "base_uri": "https://localhost:8080/"
        },
        "outputId": "e7fc1068-43ec-4ded-cdb1-db30e7e40f16"
      },
      "execution_count": null,
      "outputs": [
        {
          "output_type": "execute_result",
          "data": {
            "text/plain": [
              "0    0\n",
              "1    0\n",
              "2    0\n",
              "3    0\n",
              "4    0\n",
              "5    0\n",
              "6    0\n",
              "7    0\n",
              "8    0\n",
              "9    0\n",
              "Name: hospital_death, dtype: int64"
            ]
          },
          "metadata": {},
          "execution_count": 5
        }
      ]
    },
    {
      "cell_type": "markdown",
      "source": [
        "## Step 2: Implement Naive Bayesian classifier\n",
        "In this part, you need to implement the Naive Bayesian classifier. Since the data is categorical, you can refer to the L3-Bayesian Classifier course slides, p.12~16. The Bayes' theorem is as follows:\n",
        "\n",
        "$$P(C|X) = \\frac{P(X|C) \\cdot P(C)}{P(X)}$$\n",
        "\n",
        "We know that taking the logarithm of a series of multiplications can be transformed into a series of additions, making it easier to calculate. So, we can formulate it as follows by taking the logarithm of both sides:\n",
        "\n",
        "$$\\log(P(C|X)) = \\log(P(X|C)) + \\log(P(C)) - \\log(P(X))$$\n",
        "\n",
        "The term $\\log(P(X))$ is a normalization constant that ensures the probabilities sum to 1 across all classes and is the same for all classes. Since it's constant during prediction for all classes, it doesn't affect class comparison. Therefore, in practice, you don't need to compute or include $\\log(P(X))$ explicitly when comparing classes. Instead, you can focus on the relative values of the posterior probabilities.\n",
        "\n",
        "So the **final equation** for implementation will be:\n",
        "$$\\log(P(C|X)) = \\log(P(X|C)) + \\log(P(C))$$\n",
        "\n",
        "However, this equation may still encounter issues if the likelihood $P(X|C)$ equals 0, leading to an undefined $\\log(P(X|C))$. To handle this exception, a simple way to avoid the issue is to assume the addition of one new record to the table to calculate the likelihood:\n",
        "\n",
        "_likelihood = 1 / (len(self.feature_probs_table[c][feature]) + 1)\n"
      ],
      "metadata": {
        "id": "WSuKwSE0ohxt"
      }
    },
    {
      "cell_type": "code",
      "source": [
        "X.columns"
      ],
      "metadata": {
        "colab": {
          "base_uri": "https://localhost:8080/"
        },
        "id": "TA6Y1iIU2sT6",
        "outputId": "3e9a5450-9750-4e76-ad6d-37b1ae2d6a43"
      },
      "execution_count": 6,
      "outputs": [
        {
          "output_type": "execute_result",
          "data": {
            "text/plain": [
              "Index(['ventilated_apache', 'gcs_eyes_apache', 'gcs_motor_apache',\n",
              "       'gcs_verbal_apache', 'albumin_apache', 'bilirubin_apache', 'bun_apache',\n",
              "       'creatinine_apache', 'fio2_apache'],\n",
              "      dtype='object')"
            ]
          },
          "metadata": {},
          "execution_count": 6
        }
      ]
    },
    {
      "cell_type": "code",
      "source": [
        "class NaiveBayes:\n",
        "    def build_table(self, X, y):\n",
        "        # classes for ground truth: there are only negative(0) and positive(1) for y (hospital_death)\n",
        "        self.classes = np.unique(y)\n",
        "        # record prior for two classes\n",
        "        self.class_priors = {}\n",
        "        # **feature_probs_table** is a 3D dictionary table:\n",
        "        # structure: [class]    [feature]           [value] = probs\n",
        "        # example:   [0]        ['gcs_eyes_apache'] [3]     = # of (hospital_death=0 && gcs_eyes_apache=3) / # of (hospital_death=0)\n",
        "        # for more usage of python dict, you can refer to the link: https://www.w3schools.com/python/python_dictionaries.asp\n",
        "        self.feature_probs_table = {}\n",
        "\n",
        "        # consider negative(0) and positive(1) separately\n",
        "        for c in self.classes:\n",
        "            X_c = X[y == c]\n",
        "            self.class_priors[c] = len(X_c)/len(X) # TODO: calculate the prior\n",
        "            self.feature_probs_table[c] = {}\n",
        "\n",
        "            for feature in X.columns:\n",
        "                self.feature_probs_table[c][feature] = {}\n",
        "                for value in np.unique(X_c[feature]):\n",
        "                    value_count = len(X_c[feature][X_c[feature]==value]) # TODO: Calculate the count of data points with the current feature value and the current class\n",
        "                    # print(str(c) + \": \" + str(feature) + \" \" + str(value_count))\n",
        "                    total_count = len(X_c) # TODO: Calculate the total count of data points with the current feature within the current class\n",
        "                    # print(str(c) + \": \" + str(feature) + \" \" + str(total_count))\n",
        "                    self.feature_probs_table[c][feature][value] = value_count/total_count # TODO: Calculate and store the conditional probability of the feature value given the class\n",
        "                    # print()\n",
        "\n",
        "    def predict(self, X):\n",
        "        predictions = [self._predict(x) for x in X.to_dict(orient='records')]\n",
        "        # predictions = [self._predict(x) for x in X.to_dict()]\n",
        "        # print(str('prediciton :') + predictions)\n",
        "        return predictions\n",
        "\n",
        "    def _predict(self, x):\n",
        "        # print(\"test x\")\n",
        "        # print(x)\n",
        "\n",
        "        log_posteriors = []\n",
        "\n",
        "        # this for loop implement: log(posteior) = log(prior) + log(likelihood)\n",
        "        # print(\"NEW PREDICT\")\n",
        "        for c in self.classes:\n",
        "            log_prior = np.log(self.class_priors[c])\n",
        "            log_likelihood = 0\n",
        "            for feature, value in x.items():\n",
        "                if value in self.feature_probs_table[c][feature]:\n",
        "                    # you can look up the table for the likelihood\n",
        "                    _likelihood = self.feature_probs_table[c][feature][value] # TODO: calculate likelihood by the self.feature_probs_table\n",
        "                    # print(\"PRINT LIKEHOOD\")\n",
        "                    # print(_likelihood)\n",
        "                else:\n",
        "                    # to fix issue of some cases not appear in the table\n",
        "                    _likelihood = 1 / (len(self.feature_probs_table[c][feature]) + 1)\n",
        "                log_likelihood += np.log(_likelihood)\n",
        "            log_posterior = log_prior + log_likelihood\n",
        "            # print(\"LOGTEST\")\n",
        "            # print(log_likelihood)\n",
        "            # print(log_prior)\n",
        "            # print(log_posterior)\n",
        "            # print((c, log_posterior))\n",
        "            log_posteriors.append((c, log_posterior))\n",
        "        # print(\"PRINTING LOG LIST\")\n",
        "        # print(log_posteriors)\n",
        "        return max(log_posteriors, key = lambda i : i[1])[0] # TODO: Return the class with the highest logarithm of posterior probability as the predicted class\n",
        "        # return min(log_posteriors, key = lambda i : i[1])[0] # TODO: Return the class with the highest logarithm of posterior probability as the predicted class\n"
      ],
      "metadata": {
        "id": "iRb5mruK9w-p"
      },
      "execution_count": 7,
      "outputs": []
    },
    {
      "cell_type": "markdown",
      "source": [
        "## Step 3: Build the classifier and check the correctness of Table building\n",
        "You can easily build an instance of your classifier and then create the table.\n",
        "\n",
        "To check whether you have correctly built the table of the Naive Bayesian classifier, there is an example for you to ensure that your implementation is correct.\n"
      ],
      "metadata": {
        "id": "5m_uQfkmTgyC"
      }
    },
    {
      "cell_type": "code",
      "source": [
        "# Create and build the dictionary table for Naive Bayes classifier\n",
        "nb_classifier = NaiveBayes()\n",
        "nb_classifier.build_table(X, y)"
      ],
      "metadata": {
        "id": "sc1CTjeYTfp0"
      },
      "execution_count": 8,
      "outputs": []
    },
    {
      "cell_type": "markdown",
      "source": [
        "And you also need to output the dictionary variable ***feature_probs_table*** as a pickle file, which will be examined for correctness.\n",
        "> Note: Since this is for checking the implementation of the build_table method, please ensure that the input for your table building, ***X and y,*** is taken from the provided hw2_basic_training.csv file ***BEFORE*** splitting the dataset into training and validation sets.\n",
        "\n",
        "> Hint: Two values for you to check the implementation correctness:\n",
        "\n",
        "> `nb_classifier.feature_probs_table[0]['gcs_eyes_apache'][3]` is\n",
        "0.15299\n",
        "\n",
        "> `nb_classifier.feature_probs_table[1]['gcs_eyes_apache'][3]` is\n",
        "0.15896"
      ],
      "metadata": {
        "id": "K-f_QvJKZegX"
      }
    },
    {
      "cell_type": "code",
      "source": [
        "nb_classifier.feature_probs_table"
      ],
      "metadata": {
        "colab": {
          "base_uri": "https://localhost:8080/"
        },
        "id": "YbVsB7ba50eK",
        "outputId": "d888dc8d-284d-4a9b-a342-7411f99ce187"
      },
      "execution_count": 9,
      "outputs": [
        {
          "output_type": "execute_result",
          "data": {
            "text/plain": [
              "{0: {'ventilated_apache': {0: 0.7118389628113272, 1: 0.2881610371886728},\n",
              "  'gcs_eyes_apache': {1: 0.07033776867963153,\n",
              "   2: 0.04786079836233367,\n",
              "   3: 0.15298532923916752,\n",
              "   4: 0.7288161037188673},\n",
              "  'gcs_motor_apache': {1: 0.04424428522688502,\n",
              "   2: 0.002633913340156943,\n",
              "   3: 0.0047355851245308766,\n",
              "   4: 0.04499488229273286,\n",
              "   5: 0.08399863527806209,\n",
              "   6: 0.8193926987376322},\n",
              "  'gcs_verbal_apache': {1: 0.15969976117366086,\n",
              "   2: 0.02025247355851245,\n",
              "   3: 0.03582395087001024,\n",
              "   4: 0.12038212214261344,\n",
              "   5: 0.663841692255203},\n",
              "  'albumin_apache': {0: 0.6001228249744115, 1: 0.39987717502558856},\n",
              "  'bilirubin_apache': {0: 0.6406004776526782, 1: 0.35939952234732175},\n",
              "  'bun_apache': {0: 0.20649607642442852, 1: 0.7935039235755714},\n",
              "  'creatinine_apache': {0: 0.20155578300921187, 1: 0.7984442169907882},\n",
              "  'fio2_apache': {0: 0.7972705561241897, 1: 0.2027294438758103}},\n",
              " 1: {'ventilated_apache': {0: 0.3357620817843866, 1: 0.6642379182156134},\n",
              "  'gcs_eyes_apache': {1: 0.3315985130111524,\n",
              "   2: 0.09635687732342008,\n",
              "   3: 0.15895910780669145,\n",
              "   4: 0.41308550185873605},\n",
              "  'gcs_motor_apache': {1: 0.25219330855018585,\n",
              "   2: 0.013382899628252789,\n",
              "   3: 0.018141263940520447,\n",
              "   4: 0.10513011152416357,\n",
              "   5: 0.13888475836431227,\n",
              "   6: 0.47226765799256504},\n",
              "  'gcs_verbal_apache': {1: 0.47315985130111526,\n",
              "   2: 0.036282527881040895,\n",
              "   3: 0.045947955390334576,\n",
              "   4: 0.13308550185873605,\n",
              "   5: 0.3115241635687732},\n",
              "  'albumin_apache': {0: 0.46973977695167285, 1: 0.5302602230483271},\n",
              "  'bilirubin_apache': {0: 0.5202973977695168, 1: 0.4797026022304833},\n",
              "  'bun_apache': {0: 0.17368029739776952, 1: 0.8263197026022305},\n",
              "  'creatinine_apache': {0: 0.17427509293680296, 1: 0.825724907063197},\n",
              "  'fio2_apache': {0: 0.5293680297397769, 1: 0.4706319702602231}}}"
            ]
          },
          "metadata": {},
          "execution_count": 9
        }
      ]
    },
    {
      "cell_type": "code",
      "source": [
        "nb_classifier.class_priors"
      ],
      "metadata": {
        "colab": {
          "base_uri": "https://localhost:8080/"
        },
        "id": "VOk_uLlH6Kom",
        "outputId": "d58fc2f3-f82b-4f4a-a686-ecc7fb6a6109"
      },
      "execution_count": 10,
      "outputs": [
        {
          "output_type": "execute_result",
          "data": {
            "text/plain": [
              "{0: 0.9159375, 1: 0.0840625}"
            ]
          },
          "metadata": {},
          "execution_count": 10
        }
      ]
    },
    {
      "cell_type": "code",
      "source": [
        "if round(nb_classifier.feature_probs_table[0]['gcs_eyes_apache'][3], 5) == 0.15299 and \\\n",
        "   round(nb_classifier.feature_probs_table[1]['gcs_eyes_apache'][3], 5) == 0.15896:\n",
        "    print('pass')\n",
        "else:\n",
        "    print('fail')"
      ],
      "metadata": {
        "colab": {
          "base_uri": "https://localhost:8080/"
        },
        "id": "lX4vtks6qVaK",
        "outputId": "db7a9ca2-0c76-4a02-dbaa-a6213f1e2d62"
      },
      "execution_count": 11,
      "outputs": [
        {
          "output_type": "stream",
          "name": "stdout",
          "text": [
            "pass\n"
          ]
        }
      ]
    },
    {
      "cell_type": "code",
      "source": [
        "# TODO: change your path to save the pickle file\n",
        "pickle_file_path = 'hw2_basic_table'\n",
        "with open(pickle_file_path, 'wb') as table_file:\n",
        "    pickle.dump(nb_classifier.feature_probs_table, table_file)\n",
        "    table_file.close()"
      ],
      "metadata": {
        "id": "2Uia7kWBagdE"
      },
      "execution_count": 12,
      "outputs": []
    },
    {
      "cell_type": "markdown",
      "source": [
        "## Step 4: Split Data\n",
        "Split the data in *X, and y* into the training dataset and validation dataset.\n",
        "> Note: You can use what you have implemented in hw1.\n",
        "\n",
        "Since many students may not understand the meaning of a validation set, let's provide more explanation:\n",
        "\n",
        "The purpose of a validation set is to determine whether our model is overfitting the training data.\n",
        "- Underfitting: If the performance on the training set is poor (e.g., you haven't prepared enough for exam 1).\n",
        "- Overfitting: If the performance on the training set is high, but the performance on the validation set is poor. (e.g., if you've focused solely on practicing with \"past exam papers\" (考古題) for exam 1, you might answer those questions correctly but struggle with new, unfamiliar questions during the actual exam).\n",
        "\n",
        "If we achieve good performance on both the training set and the validation set, it indicates that the model has not only learned from the training data but also has the ability to make accurate inferences on unseen data.\n",
        "\n",
        "![](https://hackmd.io/_uploads/SJLptEZWT.png)"
      ],
      "metadata": {
        "id": "eI3rKUuzZUb4"
      }
    },
    {
      "cell_type": "markdown",
      "source": [
        "Please split the dataset into training set and validation set\n",
        "\n",
        "> Note: The purpose of ***random_state*** is to ensure that you can reproduce the results each time you split your dataset. This is often helpful for debugging.\n"
      ],
      "metadata": {
        "id": "l5G-VlT4VkYY"
      }
    },
    {
      "cell_type": "code",
      "source": [
        "def train_val_split(X, y, val_size, random_state):\n",
        "    ... # TODO: implement your own train_val_split\n",
        "    #80% Training\n",
        "    #20% Validation\n",
        "    LenDataList = len(X)\n",
        "    LenTraining = math.floor(LenDataList*val_size/100)\n",
        "    LenValidation = LenDataList - LenTraining\n",
        "    X_train = X[:LenTraining]\n",
        "    X_val = X[LenTraining:]\n",
        "    y_train = y[:LenTraining]\n",
        "    y_val = y[LenTraining:]\n",
        "\n",
        "    return X_train, X_val, y_train, y_val"
      ],
      "metadata": {
        "id": "YuY2DkQAXJh3"
      },
      "execution_count": 13,
      "outputs": []
    },
    {
      "cell_type": "code",
      "source": [
        "# TODO: Split the data into training and validation sets\n",
        "# Note: please follow template for the format of return variables\n",
        "X_train, X_val, y_train, y_val = train_val_split(X, y, 80, 0) # TODO"
      ],
      "metadata": {
        "id": "wonY4SJdVjhF"
      },
      "execution_count": 14,
      "outputs": []
    },
    {
      "cell_type": "code",
      "source": [
        "# Check Split Data\n",
        "y_val"
      ],
      "metadata": {
        "colab": {
          "base_uri": "https://localhost:8080/"
        },
        "id": "WU7eZJdFGfJN",
        "outputId": "5e293dd2-be7b-4ca9-940c-d59545c7dccf"
      },
      "execution_count": 15,
      "outputs": [
        {
          "output_type": "execute_result",
          "data": {
            "text/plain": [
              "64000    0\n",
              "64001    0\n",
              "64002    0\n",
              "64003    1\n",
              "64004    0\n",
              "        ..\n",
              "79995    0\n",
              "79996    0\n",
              "79997    0\n",
              "79998    0\n",
              "79999    0\n",
              "Name: hospital_death, Length: 16000, dtype: int64"
            ]
          },
          "metadata": {},
          "execution_count": 15
        }
      ]
    },
    {
      "cell_type": "markdown",
      "source": [
        "## Step 5: Make predictions and perform evaluation\n",
        "The method we will evaluate the performance of the Bayesian classifier is ***F1-socre***:\n",
        "\n",
        "$$\\text{precision} = \\frac{\\text{True Positives}}{\\text{True Positives} + \\text{False Positives}}$$\n",
        "\n",
        "$$\\text{Recall} = \\frac{\\text{True Positives}}{\\text{True Positives} + \\text{False Negatives}}$$\n",
        "\n",
        "$$F1\\text{-}score = \\frac{2 \\cdot \\text{precision} \\cdot \\text{recall}}{\\text{precision} + \\text{recall}}$$\n",
        "\n",
        "![](https://hackmd.io/_uploads/B1tfT9UWp.png)\n",
        "\n",
        "Since the number of ground truth ***hospital_death*** where the outcome is positive is much less than the number of negative outcomes, we should focus on the f1-score of the positive class.\n",
        "\n",
        "You need to implement the f1-score function to evaluate the performance of the Naive Bayesian classifier.\n",
        "\n",
        "> Note: You should test your classifier by evaluating it on the training set and the validation set.\n"
      ],
      "metadata": {
        "id": "y3BwyXwu0dOq"
      }
    },
    {
      "cell_type": "code",
      "source": [
        "def cal_f1_score(y_true, y_pred):\n",
        "    # Calculate True Positives, False Positives, False Negatives\n",
        "    tp = sum(1 for true, pred in zip(y_true, y_pred) if true == 1 and pred == 1)\n",
        "    fp = sum(1 for true, pred in zip(y_true, y_pred) if true == 1 and pred == 0) # TODO: calculate the false positive\n",
        "    fn = sum(1 for true, pred in zip(y_true, y_pred) if true == 0 and pred == 1) # TODO: calculate the false negative\n",
        "\n",
        "    # Calculate precision and recall\n",
        "    precision = tp/(tp+fp) # TDOO: calculate the precision\n",
        "    recall = tp/(tp+fn) # TODO: calculate the recall\n",
        "    print(\"TP | FP | FN\")\n",
        "    print(str(tp) + ' | ' + str(fp) + ' | ' + str(fn))\n",
        "\n",
        "    # Calculate F1-score\n",
        "    f1_score = (2*precision*recall)/(precision+recall) # TODO: calculate the f1-score\n",
        "\n",
        "    return f1_score"
      ],
      "metadata": {
        "id": "QLs0Y-veokCe"
      },
      "execution_count": 16,
      "outputs": []
    },
    {
      "cell_type": "code",
      "source": [
        " # TODO: build table on the training set\n",
        "nb_classifier_Pers = NaiveBayes()\n",
        "nb_classifier_Pers.build_table(X_train, y_train)\n",
        "# nb_classifier.feature_probs_table || nb_classifier.class_priors\n",
        "\n",
        "# TODO: Make predictions on training set and calculate the f1-score\n",
        "Y_Train_Prediction = nb_classifier_Pers.predict(X_train)\n",
        "Y_Train_List = y_train.tolist()\n",
        "Train_F1_Score = cal_f1_score(Y_Train_Prediction, Y_Train_List)\n",
        "\n",
        "# TODO: Make predictions on validation set and calculate the f1-score\n",
        "Y_Valid_Prediction = nb_classifier_Pers.predict(X_val)\n",
        "Y_Valid_List = y_val.tolist()\n",
        "Valid_F1_Score = cal_f1_score(Y_Valid_Prediction, Y_Valid_List)\n",
        "\n",
        "# X_train, X_val, y_train, y_val"
      ],
      "metadata": {
        "id": "nRtCpU6YtsBK",
        "colab": {
          "base_uri": "https://localhost:8080/"
        },
        "outputId": "833559fd-a808-43c8-a045-a023631caf32"
      },
      "execution_count": 17,
      "outputs": [
        {
          "output_type": "stream",
          "name": "stdout",
          "text": [
            "TP | FP | FN\n",
            "2337 | 6861 | 3018\n",
            "TP | FP | FN\n",
            "636 | 1710 | 734\n"
          ]
        }
      ]
    },
    {
      "cell_type": "code",
      "source": [
        "print(\"Train: \", end='')\n",
        "print(Train_F1_Score)\n",
        "print(\"Valid: \", end='')\n",
        "print(Valid_F1_Score)"
      ],
      "metadata": {
        "colab": {
          "base_uri": "https://localhost:8080/"
        },
        "id": "idJ2o_eG7q9f",
        "outputId": "d5f3b6a7-68cb-4c3e-c071-bd201fbbd826"
      },
      "execution_count": 21,
      "outputs": [
        {
          "output_type": "stream",
          "name": "stdout",
          "text": [
            "Train: 0.3211708925994641\n",
            "Valid: 0.34230355220667386\n"
          ]
        }
      ]
    },
    {
      "cell_type": "code",
      "source": [
        "nb_classifier.class_priors"
      ],
      "metadata": {
        "colab": {
          "base_uri": "https://localhost:8080/"
        },
        "id": "WrM7GOtXPCO3",
        "outputId": "15d3107b-1c73-44fe-c895-c7b23f748984"
      },
      "execution_count": 22,
      "outputs": [
        {
          "output_type": "execute_result",
          "data": {
            "text/plain": [
              "{0: 0.9159375, 1: 0.0840625}"
            ]
          },
          "metadata": {},
          "execution_count": 22
        }
      ]
    },
    {
      "cell_type": "code",
      "source": [
        "nb_classifier_Pers.feature_probs_table"
      ],
      "metadata": {
        "colab": {
          "base_uri": "https://localhost:8080/"
        },
        "id": "7NF1xe4gJyRk",
        "outputId": "c0c03e9c-c961-46db-d3ea-3a77367492ac"
      },
      "execution_count": 23,
      "outputs": [
        {
          "output_type": "execute_result",
          "data": {
            "text/plain": [
              "{0: {'ventilated_apache': {0: 0.7110410094637224, 1: 0.2889589905362776},\n",
              "  'gcs_eyes_apache': {1: 0.07079887458436354,\n",
              "   2: 0.047779009293204874,\n",
              "   3: 0.15232330121920026,\n",
              "   4: 0.7290988149032313},\n",
              "  'gcs_motor_apache': {1: 0.04436865887969989,\n",
              "   2: 0.0026600733225338904,\n",
              "   3: 0.004638076562366783,\n",
              "   4: 0.044794952681388014,\n",
              "   5: 0.08459374200699121,\n",
              "   6: 0.8189444965470202},\n",
              "  'gcs_verbal_apache': {1: 0.16001364140165403,\n",
              "   2: 0.020291584960354676,\n",
              "   3: 0.03613266263108535,\n",
              "   4: 0.11980561002643021,\n",
              "   5: 0.6637565009804758},\n",
              "  'albumin_apache': {0: 0.6010913121323216, 1: 0.3989086878676784},\n",
              "  'bilirubin_apache': {0: 0.6415721715406258, 1: 0.3584278284593742},\n",
              "  'bun_apache': {0: 0.2067013385625373, 1: 0.7932986614374627},\n",
              "  'creatinine_apache': {0: 0.20173927871088754, 1: 0.7982607212891124},\n",
              "  'fio2_apache': {0: 0.797919686247762, 1: 0.20208031375223803}},\n",
              " 1: {'ventilated_apache': {0: 0.34136321195144725, 1: 0.6586367880485527},\n",
              "  'gcs_eyes_apache': {1: 0.32717086834733894,\n",
              "   2: 0.09449112978524743,\n",
              "   3: 0.16283846872082167,\n",
              "   4: 0.415499533146592},\n",
              "  'gcs_motor_apache': {1: 0.24985994397759104,\n",
              "   2: 0.012511671335200748,\n",
              "   3: 0.018487394957983194,\n",
              "   4: 0.1034547152194211,\n",
              "   5: 0.13949579831932774,\n",
              "   6: 0.47619047619047616},\n",
              "  'gcs_verbal_apache': {1: 0.4689075630252101,\n",
              "   2: 0.03436041083099907,\n",
              "   3: 0.04649859943977591,\n",
              "   4: 0.13725490196078433,\n",
              "   5: 0.3129785247432306},\n",
              "  'albumin_apache': {0: 0.4704014939309057, 1: 0.5295985060690943},\n",
              "  'bilirubin_apache': {0: 0.5226890756302521, 1: 0.4773109243697479},\n",
              "  'bun_apache': {0: 0.17180205415499533, 1: 0.8281979458450047},\n",
              "  'creatinine_apache': {0: 0.17236227824463118, 1: 0.8276377217553688},\n",
              "  'fio2_apache': {0: 0.5352007469654528, 1: 0.46479925303454717}}}"
            ]
          },
          "metadata": {},
          "execution_count": 23
        }
      ]
    },
    {
      "cell_type": "markdown",
      "source": [
        "## Step 6: Generate result\n",
        "> Note: Please follow the format mension in the slides, the can only change the path for saving your code down below."
      ],
      "metadata": {
        "id": "RgH6lNeJ_IBY"
      }
    },
    {
      "cell_type": "code",
      "source": [
        "predictions = nb_classifier_Pers.predict(testing_df) # TODO: predict on the testing_df\n",
        "#testing_df\n",
        "\n",
        "# TODO: Specify the CSV file path\n",
        "csv_file_path = 'hw2_basic_prediction.csv'\n",
        "\n",
        "# Write the predictions to the CSV file\n",
        "with open(csv_file_path, 'w', newline='') as csv_file:\n",
        "    writer = csv.writer(csv_file)\n",
        "    writer.writerow(['hospital_death'])\n",
        "    for prediction in predictions:\n",
        "        writer.writerow([prediction])"
      ],
      "metadata": {
        "id": "qbeO-EFC_I4K"
      },
      "execution_count": 24,
      "outputs": []
    },
    {
      "cell_type": "markdown",
      "source": [
        "# **1. Advanced Part (40%)**\n",
        "In advanced part, you need to implement the Gaussian Bayesian classifier:\n",
        "- input features: ***3 physiological features***\n",
        "- output prediction: ***diabetes_mellitus***"
      ],
      "metadata": {
        "id": "4_yxRh0tyyHR"
      }
    },
    {
      "cell_type": "markdown",
      "source": [
        "## Global attributes\n",
        "> You can add your own global attributes here\n"
      ],
      "metadata": {
        "id": "lIXO1GcSAUtG"
      }
    },
    {
      "cell_type": "code",
      "source": [],
      "metadata": {
        "id": "xBrJu6pEAUQQ"
      },
      "execution_count": null,
      "outputs": []
    },
    {
      "cell_type": "markdown",
      "source": [
        "## Step 1: Load the input Data\n",
        "Load the input file **hw2_advanced_training.csv**\n",
        "> Note: please don't change the input var name ***training_df, testing_df, X, and y***."
      ],
      "metadata": {
        "id": "eDZpQtgTzBAz"
      }
    },
    {
      "cell_type": "code",
      "source": [
        "# TODO: modify your file path\n",
        "training_df = pd.read_csv('/content/drive/MyDrive/IntroToMachineLearning/Assignment2/hw2_advanced_training.csv')\n",
        "testing_df = pd.read_csv('/content/drive/MyDrive/IntroToMachineLearning/Assignment2/hw2_advanced_testing.csv')\n",
        "y = training_df['diabetes_mellitus']\n",
        "X = training_df.drop('diabetes_mellitus', axis=1)"
      ],
      "metadata": {
        "id": "EICIDlzJy7NB"
      },
      "execution_count": 25,
      "outputs": []
    },
    {
      "cell_type": "code",
      "source": [
        "testing_df"
      ],
      "metadata": {
        "colab": {
          "base_uri": "https://localhost:8080/",
          "height": 424
        },
        "id": "MEYf-jmOCkkj",
        "outputId": "c68b69e0-d21b-43b1-b9a1-8764569b6e31"
      },
      "execution_count": 28,
      "outputs": [
        {
          "output_type": "execute_result",
          "data": {
            "text/plain": [
              "      age        bmi  glucose_apache\n",
              "0      58  30.955908           377.0\n",
              "1      88  17.764481           145.0\n",
              "2      41  57.093426           163.0\n",
              "3      82  39.100346            96.0\n",
              "4      85  21.755430           170.0\n",
              "...   ...        ...             ...\n",
              "9884   77  24.243339           248.0\n",
              "9885   64  30.217293            89.0\n",
              "9886   70  22.474579            45.0\n",
              "9887   64  33.127140           177.0\n",
              "9888   48  25.460293           267.0\n",
              "\n",
              "[9889 rows x 3 columns]"
            ],
            "text/html": [
              "\n",
              "  <div id=\"df-90a113d8-b5c0-4d73-9a56-a5926796b3ba\" class=\"colab-df-container\">\n",
              "    <div>\n",
              "<style scoped>\n",
              "    .dataframe tbody tr th:only-of-type {\n",
              "        vertical-align: middle;\n",
              "    }\n",
              "\n",
              "    .dataframe tbody tr th {\n",
              "        vertical-align: top;\n",
              "    }\n",
              "\n",
              "    .dataframe thead th {\n",
              "        text-align: right;\n",
              "    }\n",
              "</style>\n",
              "<table border=\"1\" class=\"dataframe\">\n",
              "  <thead>\n",
              "    <tr style=\"text-align: right;\">\n",
              "      <th></th>\n",
              "      <th>age</th>\n",
              "      <th>bmi</th>\n",
              "      <th>glucose_apache</th>\n",
              "    </tr>\n",
              "  </thead>\n",
              "  <tbody>\n",
              "    <tr>\n",
              "      <th>0</th>\n",
              "      <td>58</td>\n",
              "      <td>30.955908</td>\n",
              "      <td>377.0</td>\n",
              "    </tr>\n",
              "    <tr>\n",
              "      <th>1</th>\n",
              "      <td>88</td>\n",
              "      <td>17.764481</td>\n",
              "      <td>145.0</td>\n",
              "    </tr>\n",
              "    <tr>\n",
              "      <th>2</th>\n",
              "      <td>41</td>\n",
              "      <td>57.093426</td>\n",
              "      <td>163.0</td>\n",
              "    </tr>\n",
              "    <tr>\n",
              "      <th>3</th>\n",
              "      <td>82</td>\n",
              "      <td>39.100346</td>\n",
              "      <td>96.0</td>\n",
              "    </tr>\n",
              "    <tr>\n",
              "      <th>4</th>\n",
              "      <td>85</td>\n",
              "      <td>21.755430</td>\n",
              "      <td>170.0</td>\n",
              "    </tr>\n",
              "    <tr>\n",
              "      <th>...</th>\n",
              "      <td>...</td>\n",
              "      <td>...</td>\n",
              "      <td>...</td>\n",
              "    </tr>\n",
              "    <tr>\n",
              "      <th>9884</th>\n",
              "      <td>77</td>\n",
              "      <td>24.243339</td>\n",
              "      <td>248.0</td>\n",
              "    </tr>\n",
              "    <tr>\n",
              "      <th>9885</th>\n",
              "      <td>64</td>\n",
              "      <td>30.217293</td>\n",
              "      <td>89.0</td>\n",
              "    </tr>\n",
              "    <tr>\n",
              "      <th>9886</th>\n",
              "      <td>70</td>\n",
              "      <td>22.474579</td>\n",
              "      <td>45.0</td>\n",
              "    </tr>\n",
              "    <tr>\n",
              "      <th>9887</th>\n",
              "      <td>64</td>\n",
              "      <td>33.127140</td>\n",
              "      <td>177.0</td>\n",
              "    </tr>\n",
              "    <tr>\n",
              "      <th>9888</th>\n",
              "      <td>48</td>\n",
              "      <td>25.460293</td>\n",
              "      <td>267.0</td>\n",
              "    </tr>\n",
              "  </tbody>\n",
              "</table>\n",
              "<p>9889 rows × 3 columns</p>\n",
              "</div>\n",
              "    <div class=\"colab-df-buttons\">\n",
              "\n",
              "  <div class=\"colab-df-container\">\n",
              "    <button class=\"colab-df-convert\" onclick=\"convertToInteractive('df-90a113d8-b5c0-4d73-9a56-a5926796b3ba')\"\n",
              "            title=\"Convert this dataframe to an interactive table.\"\n",
              "            style=\"display:none;\">\n",
              "\n",
              "  <svg xmlns=\"http://www.w3.org/2000/svg\" height=\"24px\" viewBox=\"0 -960 960 960\">\n",
              "    <path d=\"M120-120v-720h720v720H120Zm60-500h600v-160H180v160Zm220 220h160v-160H400v160Zm0 220h160v-160H400v160ZM180-400h160v-160H180v160Zm440 0h160v-160H620v160ZM180-180h160v-160H180v160Zm440 0h160v-160H620v160Z\"/>\n",
              "  </svg>\n",
              "    </button>\n",
              "\n",
              "  <style>\n",
              "    .colab-df-container {\n",
              "      display:flex;\n",
              "      gap: 12px;\n",
              "    }\n",
              "\n",
              "    .colab-df-convert {\n",
              "      background-color: #E8F0FE;\n",
              "      border: none;\n",
              "      border-radius: 50%;\n",
              "      cursor: pointer;\n",
              "      display: none;\n",
              "      fill: #1967D2;\n",
              "      height: 32px;\n",
              "      padding: 0 0 0 0;\n",
              "      width: 32px;\n",
              "    }\n",
              "\n",
              "    .colab-df-convert:hover {\n",
              "      background-color: #E2EBFA;\n",
              "      box-shadow: 0px 1px 2px rgba(60, 64, 67, 0.3), 0px 1px 3px 1px rgba(60, 64, 67, 0.15);\n",
              "      fill: #174EA6;\n",
              "    }\n",
              "\n",
              "    .colab-df-buttons div {\n",
              "      margin-bottom: 4px;\n",
              "    }\n",
              "\n",
              "    [theme=dark] .colab-df-convert {\n",
              "      background-color: #3B4455;\n",
              "      fill: #D2E3FC;\n",
              "    }\n",
              "\n",
              "    [theme=dark] .colab-df-convert:hover {\n",
              "      background-color: #434B5C;\n",
              "      box-shadow: 0px 1px 3px 1px rgba(0, 0, 0, 0.15);\n",
              "      filter: drop-shadow(0px 1px 2px rgba(0, 0, 0, 0.3));\n",
              "      fill: #FFFFFF;\n",
              "    }\n",
              "  </style>\n",
              "\n",
              "    <script>\n",
              "      const buttonEl =\n",
              "        document.querySelector('#df-90a113d8-b5c0-4d73-9a56-a5926796b3ba button.colab-df-convert');\n",
              "      buttonEl.style.display =\n",
              "        google.colab.kernel.accessAllowed ? 'block' : 'none';\n",
              "\n",
              "      async function convertToInteractive(key) {\n",
              "        const element = document.querySelector('#df-90a113d8-b5c0-4d73-9a56-a5926796b3ba');\n",
              "        const dataTable =\n",
              "          await google.colab.kernel.invokeFunction('convertToInteractive',\n",
              "                                                    [key], {});\n",
              "        if (!dataTable) return;\n",
              "\n",
              "        const docLinkHtml = 'Like what you see? Visit the ' +\n",
              "          '<a target=\"_blank\" href=https://colab.research.google.com/notebooks/data_table.ipynb>data table notebook</a>'\n",
              "          + ' to learn more about interactive tables.';\n",
              "        element.innerHTML = '';\n",
              "        dataTable['output_type'] = 'display_data';\n",
              "        await google.colab.output.renderOutput(dataTable, element);\n",
              "        const docLink = document.createElement('div');\n",
              "        docLink.innerHTML = docLinkHtml;\n",
              "        element.appendChild(docLink);\n",
              "      }\n",
              "    </script>\n",
              "  </div>\n",
              "\n",
              "\n",
              "<div id=\"df-3a1fd32d-51bc-4c8a-ac29-8674e459a3cd\">\n",
              "  <button class=\"colab-df-quickchart\" onclick=\"quickchart('df-3a1fd32d-51bc-4c8a-ac29-8674e459a3cd')\"\n",
              "            title=\"Suggest charts.\"\n",
              "            style=\"display:none;\">\n",
              "\n",
              "<svg xmlns=\"http://www.w3.org/2000/svg\" height=\"24px\"viewBox=\"0 0 24 24\"\n",
              "     width=\"24px\">\n",
              "    <g>\n",
              "        <path d=\"M19 3H5c-1.1 0-2 .9-2 2v14c0 1.1.9 2 2 2h14c1.1 0 2-.9 2-2V5c0-1.1-.9-2-2-2zM9 17H7v-7h2v7zm4 0h-2V7h2v10zm4 0h-2v-4h2v4z\"/>\n",
              "    </g>\n",
              "</svg>\n",
              "  </button>\n",
              "\n",
              "<style>\n",
              "  .colab-df-quickchart {\n",
              "      --bg-color: #E8F0FE;\n",
              "      --fill-color: #1967D2;\n",
              "      --hover-bg-color: #E2EBFA;\n",
              "      --hover-fill-color: #174EA6;\n",
              "      --disabled-fill-color: #AAA;\n",
              "      --disabled-bg-color: #DDD;\n",
              "  }\n",
              "\n",
              "  [theme=dark] .colab-df-quickchart {\n",
              "      --bg-color: #3B4455;\n",
              "      --fill-color: #D2E3FC;\n",
              "      --hover-bg-color: #434B5C;\n",
              "      --hover-fill-color: #FFFFFF;\n",
              "      --disabled-bg-color: #3B4455;\n",
              "      --disabled-fill-color: #666;\n",
              "  }\n",
              "\n",
              "  .colab-df-quickchart {\n",
              "    background-color: var(--bg-color);\n",
              "    border: none;\n",
              "    border-radius: 50%;\n",
              "    cursor: pointer;\n",
              "    display: none;\n",
              "    fill: var(--fill-color);\n",
              "    height: 32px;\n",
              "    padding: 0;\n",
              "    width: 32px;\n",
              "  }\n",
              "\n",
              "  .colab-df-quickchart:hover {\n",
              "    background-color: var(--hover-bg-color);\n",
              "    box-shadow: 0 1px 2px rgba(60, 64, 67, 0.3), 0 1px 3px 1px rgba(60, 64, 67, 0.15);\n",
              "    fill: var(--button-hover-fill-color);\n",
              "  }\n",
              "\n",
              "  .colab-df-quickchart-complete:disabled,\n",
              "  .colab-df-quickchart-complete:disabled:hover {\n",
              "    background-color: var(--disabled-bg-color);\n",
              "    fill: var(--disabled-fill-color);\n",
              "    box-shadow: none;\n",
              "  }\n",
              "\n",
              "  .colab-df-spinner {\n",
              "    border: 2px solid var(--fill-color);\n",
              "    border-color: transparent;\n",
              "    border-bottom-color: var(--fill-color);\n",
              "    animation:\n",
              "      spin 1s steps(1) infinite;\n",
              "  }\n",
              "\n",
              "  @keyframes spin {\n",
              "    0% {\n",
              "      border-color: transparent;\n",
              "      border-bottom-color: var(--fill-color);\n",
              "      border-left-color: var(--fill-color);\n",
              "    }\n",
              "    20% {\n",
              "      border-color: transparent;\n",
              "      border-left-color: var(--fill-color);\n",
              "      border-top-color: var(--fill-color);\n",
              "    }\n",
              "    30% {\n",
              "      border-color: transparent;\n",
              "      border-left-color: var(--fill-color);\n",
              "      border-top-color: var(--fill-color);\n",
              "      border-right-color: var(--fill-color);\n",
              "    }\n",
              "    40% {\n",
              "      border-color: transparent;\n",
              "      border-right-color: var(--fill-color);\n",
              "      border-top-color: var(--fill-color);\n",
              "    }\n",
              "    60% {\n",
              "      border-color: transparent;\n",
              "      border-right-color: var(--fill-color);\n",
              "    }\n",
              "    80% {\n",
              "      border-color: transparent;\n",
              "      border-right-color: var(--fill-color);\n",
              "      border-bottom-color: var(--fill-color);\n",
              "    }\n",
              "    90% {\n",
              "      border-color: transparent;\n",
              "      border-bottom-color: var(--fill-color);\n",
              "    }\n",
              "  }\n",
              "</style>\n",
              "\n",
              "  <script>\n",
              "    async function quickchart(key) {\n",
              "      const quickchartButtonEl =\n",
              "        document.querySelector('#' + key + ' button');\n",
              "      quickchartButtonEl.disabled = true;  // To prevent multiple clicks.\n",
              "      quickchartButtonEl.classList.add('colab-df-spinner');\n",
              "      try {\n",
              "        const charts = await google.colab.kernel.invokeFunction(\n",
              "            'suggestCharts', [key], {});\n",
              "      } catch (error) {\n",
              "        console.error('Error during call to suggestCharts:', error);\n",
              "      }\n",
              "      quickchartButtonEl.classList.remove('colab-df-spinner');\n",
              "      quickchartButtonEl.classList.add('colab-df-quickchart-complete');\n",
              "    }\n",
              "    (() => {\n",
              "      let quickchartButtonEl =\n",
              "        document.querySelector('#df-3a1fd32d-51bc-4c8a-ac29-8674e459a3cd button');\n",
              "      quickchartButtonEl.style.display =\n",
              "        google.colab.kernel.accessAllowed ? 'block' : 'none';\n",
              "    })();\n",
              "  </script>\n",
              "</div>\n",
              "    </div>\n",
              "  </div>\n"
            ]
          },
          "metadata": {},
          "execution_count": 28
        }
      ]
    },
    {
      "cell_type": "code",
      "source": [
        "X[:10]"
      ],
      "metadata": {
        "id": "wpwc5bwyDo_6",
        "colab": {
          "base_uri": "https://localhost:8080/",
          "height": 363
        },
        "outputId": "ad887dca-b815-43bf-b69f-65630e81672b"
      },
      "execution_count": 26,
      "outputs": [
        {
          "output_type": "execute_result",
          "data": {
            "text/plain": [
              "   age        bmi  glucose_apache\n",
              "0   64  40.808081           358.0\n",
              "1   82  22.782294           183.0\n",
              "2   54  19.651056            84.0\n",
              "3   18  29.722807            89.0\n",
              "4   46  24.404819           569.0\n",
              "5   73  16.366843           267.0\n",
              "6   63  26.386867           236.0\n",
              "7   40  23.765104            89.0\n",
              "8   58  47.528345            89.0\n",
              "9   76  39.147070           193.0"
            ],
            "text/html": [
              "\n",
              "  <div id=\"df-7c5d149c-a9ae-4e55-9405-aa5bbd90d71b\" class=\"colab-df-container\">\n",
              "    <div>\n",
              "<style scoped>\n",
              "    .dataframe tbody tr th:only-of-type {\n",
              "        vertical-align: middle;\n",
              "    }\n",
              "\n",
              "    .dataframe tbody tr th {\n",
              "        vertical-align: top;\n",
              "    }\n",
              "\n",
              "    .dataframe thead th {\n",
              "        text-align: right;\n",
              "    }\n",
              "</style>\n",
              "<table border=\"1\" class=\"dataframe\">\n",
              "  <thead>\n",
              "    <tr style=\"text-align: right;\">\n",
              "      <th></th>\n",
              "      <th>age</th>\n",
              "      <th>bmi</th>\n",
              "      <th>glucose_apache</th>\n",
              "    </tr>\n",
              "  </thead>\n",
              "  <tbody>\n",
              "    <tr>\n",
              "      <th>0</th>\n",
              "      <td>64</td>\n",
              "      <td>40.808081</td>\n",
              "      <td>358.0</td>\n",
              "    </tr>\n",
              "    <tr>\n",
              "      <th>1</th>\n",
              "      <td>82</td>\n",
              "      <td>22.782294</td>\n",
              "      <td>183.0</td>\n",
              "    </tr>\n",
              "    <tr>\n",
              "      <th>2</th>\n",
              "      <td>54</td>\n",
              "      <td>19.651056</td>\n",
              "      <td>84.0</td>\n",
              "    </tr>\n",
              "    <tr>\n",
              "      <th>3</th>\n",
              "      <td>18</td>\n",
              "      <td>29.722807</td>\n",
              "      <td>89.0</td>\n",
              "    </tr>\n",
              "    <tr>\n",
              "      <th>4</th>\n",
              "      <td>46</td>\n",
              "      <td>24.404819</td>\n",
              "      <td>569.0</td>\n",
              "    </tr>\n",
              "    <tr>\n",
              "      <th>5</th>\n",
              "      <td>73</td>\n",
              "      <td>16.366843</td>\n",
              "      <td>267.0</td>\n",
              "    </tr>\n",
              "    <tr>\n",
              "      <th>6</th>\n",
              "      <td>63</td>\n",
              "      <td>26.386867</td>\n",
              "      <td>236.0</td>\n",
              "    </tr>\n",
              "    <tr>\n",
              "      <th>7</th>\n",
              "      <td>40</td>\n",
              "      <td>23.765104</td>\n",
              "      <td>89.0</td>\n",
              "    </tr>\n",
              "    <tr>\n",
              "      <th>8</th>\n",
              "      <td>58</td>\n",
              "      <td>47.528345</td>\n",
              "      <td>89.0</td>\n",
              "    </tr>\n",
              "    <tr>\n",
              "      <th>9</th>\n",
              "      <td>76</td>\n",
              "      <td>39.147070</td>\n",
              "      <td>193.0</td>\n",
              "    </tr>\n",
              "  </tbody>\n",
              "</table>\n",
              "</div>\n",
              "    <div class=\"colab-df-buttons\">\n",
              "\n",
              "  <div class=\"colab-df-container\">\n",
              "    <button class=\"colab-df-convert\" onclick=\"convertToInteractive('df-7c5d149c-a9ae-4e55-9405-aa5bbd90d71b')\"\n",
              "            title=\"Convert this dataframe to an interactive table.\"\n",
              "            style=\"display:none;\">\n",
              "\n",
              "  <svg xmlns=\"http://www.w3.org/2000/svg\" height=\"24px\" viewBox=\"0 -960 960 960\">\n",
              "    <path d=\"M120-120v-720h720v720H120Zm60-500h600v-160H180v160Zm220 220h160v-160H400v160Zm0 220h160v-160H400v160ZM180-400h160v-160H180v160Zm440 0h160v-160H620v160ZM180-180h160v-160H180v160Zm440 0h160v-160H620v160Z\"/>\n",
              "  </svg>\n",
              "    </button>\n",
              "\n",
              "  <style>\n",
              "    .colab-df-container {\n",
              "      display:flex;\n",
              "      gap: 12px;\n",
              "    }\n",
              "\n",
              "    .colab-df-convert {\n",
              "      background-color: #E8F0FE;\n",
              "      border: none;\n",
              "      border-radius: 50%;\n",
              "      cursor: pointer;\n",
              "      display: none;\n",
              "      fill: #1967D2;\n",
              "      height: 32px;\n",
              "      padding: 0 0 0 0;\n",
              "      width: 32px;\n",
              "    }\n",
              "\n",
              "    .colab-df-convert:hover {\n",
              "      background-color: #E2EBFA;\n",
              "      box-shadow: 0px 1px 2px rgba(60, 64, 67, 0.3), 0px 1px 3px 1px rgba(60, 64, 67, 0.15);\n",
              "      fill: #174EA6;\n",
              "    }\n",
              "\n",
              "    .colab-df-buttons div {\n",
              "      margin-bottom: 4px;\n",
              "    }\n",
              "\n",
              "    [theme=dark] .colab-df-convert {\n",
              "      background-color: #3B4455;\n",
              "      fill: #D2E3FC;\n",
              "    }\n",
              "\n",
              "    [theme=dark] .colab-df-convert:hover {\n",
              "      background-color: #434B5C;\n",
              "      box-shadow: 0px 1px 3px 1px rgba(0, 0, 0, 0.15);\n",
              "      filter: drop-shadow(0px 1px 2px rgba(0, 0, 0, 0.3));\n",
              "      fill: #FFFFFF;\n",
              "    }\n",
              "  </style>\n",
              "\n",
              "    <script>\n",
              "      const buttonEl =\n",
              "        document.querySelector('#df-7c5d149c-a9ae-4e55-9405-aa5bbd90d71b button.colab-df-convert');\n",
              "      buttonEl.style.display =\n",
              "        google.colab.kernel.accessAllowed ? 'block' : 'none';\n",
              "\n",
              "      async function convertToInteractive(key) {\n",
              "        const element = document.querySelector('#df-7c5d149c-a9ae-4e55-9405-aa5bbd90d71b');\n",
              "        const dataTable =\n",
              "          await google.colab.kernel.invokeFunction('convertToInteractive',\n",
              "                                                    [key], {});\n",
              "        if (!dataTable) return;\n",
              "\n",
              "        const docLinkHtml = 'Like what you see? Visit the ' +\n",
              "          '<a target=\"_blank\" href=https://colab.research.google.com/notebooks/data_table.ipynb>data table notebook</a>'\n",
              "          + ' to learn more about interactive tables.';\n",
              "        element.innerHTML = '';\n",
              "        dataTable['output_type'] = 'display_data';\n",
              "        await google.colab.output.renderOutput(dataTable, element);\n",
              "        const docLink = document.createElement('div');\n",
              "        docLink.innerHTML = docLinkHtml;\n",
              "        element.appendChild(docLink);\n",
              "      }\n",
              "    </script>\n",
              "  </div>\n",
              "\n",
              "\n",
              "<div id=\"df-68cf27c6-594d-4b29-8a0f-d3d45479eb98\">\n",
              "  <button class=\"colab-df-quickchart\" onclick=\"quickchart('df-68cf27c6-594d-4b29-8a0f-d3d45479eb98')\"\n",
              "            title=\"Suggest charts.\"\n",
              "            style=\"display:none;\">\n",
              "\n",
              "<svg xmlns=\"http://www.w3.org/2000/svg\" height=\"24px\"viewBox=\"0 0 24 24\"\n",
              "     width=\"24px\">\n",
              "    <g>\n",
              "        <path d=\"M19 3H5c-1.1 0-2 .9-2 2v14c0 1.1.9 2 2 2h14c1.1 0 2-.9 2-2V5c0-1.1-.9-2-2-2zM9 17H7v-7h2v7zm4 0h-2V7h2v10zm4 0h-2v-4h2v4z\"/>\n",
              "    </g>\n",
              "</svg>\n",
              "  </button>\n",
              "\n",
              "<style>\n",
              "  .colab-df-quickchart {\n",
              "      --bg-color: #E8F0FE;\n",
              "      --fill-color: #1967D2;\n",
              "      --hover-bg-color: #E2EBFA;\n",
              "      --hover-fill-color: #174EA6;\n",
              "      --disabled-fill-color: #AAA;\n",
              "      --disabled-bg-color: #DDD;\n",
              "  }\n",
              "\n",
              "  [theme=dark] .colab-df-quickchart {\n",
              "      --bg-color: #3B4455;\n",
              "      --fill-color: #D2E3FC;\n",
              "      --hover-bg-color: #434B5C;\n",
              "      --hover-fill-color: #FFFFFF;\n",
              "      --disabled-bg-color: #3B4455;\n",
              "      --disabled-fill-color: #666;\n",
              "  }\n",
              "\n",
              "  .colab-df-quickchart {\n",
              "    background-color: var(--bg-color);\n",
              "    border: none;\n",
              "    border-radius: 50%;\n",
              "    cursor: pointer;\n",
              "    display: none;\n",
              "    fill: var(--fill-color);\n",
              "    height: 32px;\n",
              "    padding: 0;\n",
              "    width: 32px;\n",
              "  }\n",
              "\n",
              "  .colab-df-quickchart:hover {\n",
              "    background-color: var(--hover-bg-color);\n",
              "    box-shadow: 0 1px 2px rgba(60, 64, 67, 0.3), 0 1px 3px 1px rgba(60, 64, 67, 0.15);\n",
              "    fill: var(--button-hover-fill-color);\n",
              "  }\n",
              "\n",
              "  .colab-df-quickchart-complete:disabled,\n",
              "  .colab-df-quickchart-complete:disabled:hover {\n",
              "    background-color: var(--disabled-bg-color);\n",
              "    fill: var(--disabled-fill-color);\n",
              "    box-shadow: none;\n",
              "  }\n",
              "\n",
              "  .colab-df-spinner {\n",
              "    border: 2px solid var(--fill-color);\n",
              "    border-color: transparent;\n",
              "    border-bottom-color: var(--fill-color);\n",
              "    animation:\n",
              "      spin 1s steps(1) infinite;\n",
              "  }\n",
              "\n",
              "  @keyframes spin {\n",
              "    0% {\n",
              "      border-color: transparent;\n",
              "      border-bottom-color: var(--fill-color);\n",
              "      border-left-color: var(--fill-color);\n",
              "    }\n",
              "    20% {\n",
              "      border-color: transparent;\n",
              "      border-left-color: var(--fill-color);\n",
              "      border-top-color: var(--fill-color);\n",
              "    }\n",
              "    30% {\n",
              "      border-color: transparent;\n",
              "      border-left-color: var(--fill-color);\n",
              "      border-top-color: var(--fill-color);\n",
              "      border-right-color: var(--fill-color);\n",
              "    }\n",
              "    40% {\n",
              "      border-color: transparent;\n",
              "      border-right-color: var(--fill-color);\n",
              "      border-top-color: var(--fill-color);\n",
              "    }\n",
              "    60% {\n",
              "      border-color: transparent;\n",
              "      border-right-color: var(--fill-color);\n",
              "    }\n",
              "    80% {\n",
              "      border-color: transparent;\n",
              "      border-right-color: var(--fill-color);\n",
              "      border-bottom-color: var(--fill-color);\n",
              "    }\n",
              "    90% {\n",
              "      border-color: transparent;\n",
              "      border-bottom-color: var(--fill-color);\n",
              "    }\n",
              "  }\n",
              "</style>\n",
              "\n",
              "  <script>\n",
              "    async function quickchart(key) {\n",
              "      const quickchartButtonEl =\n",
              "        document.querySelector('#' + key + ' button');\n",
              "      quickchartButtonEl.disabled = true;  // To prevent multiple clicks.\n",
              "      quickchartButtonEl.classList.add('colab-df-spinner');\n",
              "      try {\n",
              "        const charts = await google.colab.kernel.invokeFunction(\n",
              "            'suggestCharts', [key], {});\n",
              "      } catch (error) {\n",
              "        console.error('Error during call to suggestCharts:', error);\n",
              "      }\n",
              "      quickchartButtonEl.classList.remove('colab-df-spinner');\n",
              "      quickchartButtonEl.classList.add('colab-df-quickchart-complete');\n",
              "    }\n",
              "    (() => {\n",
              "      let quickchartButtonEl =\n",
              "        document.querySelector('#df-68cf27c6-594d-4b29-8a0f-d3d45479eb98 button');\n",
              "      quickchartButtonEl.style.display =\n",
              "        google.colab.kernel.accessAllowed ? 'block' : 'none';\n",
              "    })();\n",
              "  </script>\n",
              "</div>\n",
              "    </div>\n",
              "  </div>\n"
            ]
          },
          "metadata": {},
          "execution_count": 26
        }
      ]
    },
    {
      "cell_type": "code",
      "source": [
        "y[:10]"
      ],
      "metadata": {
        "id": "KQG0xcKaDtDy",
        "colab": {
          "base_uri": "https://localhost:8080/"
        },
        "outputId": "2a07a608-6260-489a-b3bc-56eaa8933170"
      },
      "execution_count": 27,
      "outputs": [
        {
          "output_type": "execute_result",
          "data": {
            "text/plain": [
              "0    1\n",
              "1    0\n",
              "2    0\n",
              "3    0\n",
              "4    1\n",
              "5    1\n",
              "6    1\n",
              "7    1\n",
              "8    0\n",
              "9    1\n",
              "Name: diabetes_mellitus, dtype: int64"
            ]
          },
          "metadata": {},
          "execution_count": 27
        }
      ]
    },
    {
      "cell_type": "markdown",
      "source": [
        "you can check whether the standardization works"
      ],
      "metadata": {
        "id": "oTzwktNcQ0gV"
      }
    },
    {
      "cell_type": "markdown",
      "source": [
        "## Step 2: Implement Gaussian Naive Bayesian classifier\n",
        "In this part, you need to implement the Gaussian Naive Bayesian classifier.\n",
        "\n",
        "The main difference between Naive Bayesian and Gaussian Naive Bayesian is the likelihood part. For Gaussian NB, we can use the probability density function (PDF) of the ***Gaussian distribution*** (also known as the Normal distribution):\n",
        "\n",
        "$$f(x) = \\frac{1}{\\sqrt{2\\pi\\sigma^2}} exp({-\\frac{(x - \\mu)^2}{2\\sigma^2}})$$\n",
        "\n",
        "The reason we need to use Gaussian is that when the data type is continuous numbers instead of discrete numbers, we can't build a table by just counting all the possible cases. However, we can assume the data distribution follows a Gaussian (or Normal) distribution by calculating its mean and variance. Then, we can approximate the values, even if some records don't appear in the training set.\n"
      ],
      "metadata": {
        "id": "oKKgJmzVzhy_"
      }
    },
    {
      "cell_type": "code",
      "source": [
        "class GaussianNaiveBayesian:\n",
        "    def build_table(self, X, y):\n",
        "        # classes for ground truth: there are only negative(0) and positive(1) for y (hospital_death)\n",
        "        self.classes = np.unique(y)\n",
        "        # record prior for two classes\n",
        "        self.class_priors = {}\n",
        "        # **feature_mean_var_table** is a 3D dictionary table:\n",
        "        # structure: [class]    [feature]           ['mean'] = mean\n",
        "        # structure: [class]    [feature]           ['var']  = var\n",
        "        # example:   [0]        ['gcs_eyes_apache'] ['mean'] = mean for feature='gcs_eyes_apache' when hospital_death=0\n",
        "        # example:   [0]        ['gcs_eyes_apache'] ['var']  = var for feature='gcs_eyes_apache' when hospital_death=0\n",
        "        self.feature_mean_var_table = {}\n",
        "        for c in self.classes:\n",
        "            X_c = X[y == c]\n",
        "            #Add Laplace Smoothing\n",
        "            self.class_priors[c] = len(X_c)/len(X) # TODO: calculate prior\n",
        "            self.feature_mean_var_table[c] = {}\n",
        "            for feature in X.columns:\n",
        "                self.feature_mean_var_table[c][feature] = {}\n",
        "                # Calculate mean and var for each feature\n",
        "                self.feature_mean_var_table[c][feature]['mean'] = round(np.mean(X_c[feature]), 5)# TDOO: calculate the mean\n",
        "                # np.sum(X_c[feature])/len(X_c[feature])\n",
        "                self.feature_mean_var_table[c][feature]['var'] = round(np.var(X_c[feature], ddof=1), 5)# TODO: calculate the var\n",
        "\n",
        "    def _calculate_likelihood(self, x, mean, var):\n",
        "        currentsd = np.sqrt(var)\n",
        "        likehood_gauss = ( 1/(math.sqrt(2*math.pi*var)) ) * ( math.exp( -( (x-mean)**2 / (2*var)) ) )\n",
        "        # print(likehood_gauss)\n",
        "        return likehood_gauss # TODO: calculate the Gaussian (normal) distribution pdf function as likelihoo\n",
        "\n",
        "    def predict(self, X):\n",
        "        predictions = [self._predict(x) for x in X.to_dict(orient='records')]\n",
        "        return predictions\n",
        "\n",
        "    def _predict(self, x):\n",
        "        log_posteriors = []\n",
        "        # this for loop implement: log(posteior) = log(prior) + log(likelihood)\n",
        "        for c in self.classes:\n",
        "            log_prior = np.log(self.class_priors[c])\n",
        "            log_likelihood = 0\n",
        "            for feature, value in x.items():\n",
        "                currentmean = self.feature_mean_var_table[c][feature]['mean']\n",
        "                currentvar = self.feature_mean_var_table[c][feature]['var']\n",
        "                # log_likelihood += np.log(np.random.normal(currentmean, currentsd, value)) # TODO: calculate the log likelihood\n",
        "                log_likelihood += self._calculate_likelihood(value, currentmean, currentvar) # TODO: calculate the log likelihood\n",
        "            log_posterior = log_prior + log_likelihood\n",
        "            # print(\"LOGTEST\")\n",
        "            # print(log_likelihood)\n",
        "            # print(log_prior)\n",
        "            # print(log_posterior)\n",
        "            # print((c, log_posterior))\n",
        "            log_posteriors.append((c, log_posterior))\n",
        "        # print(\"PRINTING LOG LIST\")\n",
        "        # print(log_posteriors)\n",
        "        return max(log_posteriors, key = lambda i : i[1])[0] # TODO: Return the class with the highest logarithm of posterior probability as the predicted class\n"
      ],
      "metadata": {
        "id": "NbKCkAvLzwHK"
      },
      "execution_count": 29,
      "outputs": []
    },
    {
      "cell_type": "markdown",
      "source": [
        "## Step 3: Build the classifier and check the correctness of Table building\n",
        "You can easily build an instance of your classifier and then create the table.\n",
        "\n",
        "To check whether you have correctly built the table of the ***Gaussian Naive Bayesian classifier***, there is an example for you to ensure that your implementation is correct.\n"
      ],
      "metadata": {
        "id": "3FGcgNBK9gs2"
      }
    },
    {
      "cell_type": "code",
      "source": [
        "# Initialize and build_table the model\n",
        "gnb_classifier = GaussianNaiveBayesian()\n",
        "gnb_classifier.build_table(X, y)"
      ],
      "metadata": {
        "id": "52cFQayn8FGQ"
      },
      "execution_count": 34,
      "outputs": []
    },
    {
      "cell_type": "code",
      "source": [
        "gnb_classifier.feature_mean_var_table"
      ],
      "metadata": {
        "colab": {
          "base_uri": "https://localhost:8080/"
        },
        "id": "NB_vtw3KjMG8",
        "outputId": "6ead793a-39d1-478a-8a50-ad753e223603"
      },
      "execution_count": 35,
      "outputs": [
        {
          "output_type": "execute_result",
          "data": {
            "text/plain": [
              "{0: {'age': {'mean': 61.98273, 'var': 292.33361},\n",
              "  'bmi': {'mean': 28.61544, 'var': 63.57263},\n",
              "  'glucose_apache': {'mean': 141.82843, 'var': 5397.29461}},\n",
              " 1: {'age': {'mean': 64.59767, 'var': 205.38742},\n",
              "  'bmi': {'mean': 31.99082, 'var': 80.94882},\n",
              "  'glucose_apache': {'mean': 219.66866, 'var': 12779.24182}}}"
            ]
          },
          "metadata": {},
          "execution_count": 35
        }
      ]
    },
    {
      "cell_type": "code",
      "source": [
        "gnb_classifier.class_priors"
      ],
      "metadata": {
        "colab": {
          "base_uri": "https://localhost:8080/"
        },
        "id": "bQgGhOooz0zy",
        "outputId": "0c04d2f0-2d4d-49e5-b5e5-60f81bd8a833"
      },
      "execution_count": 36,
      "outputs": [
        {
          "output_type": "execute_result",
          "data": {
            "text/plain": [
              "{0: 0.7517538461538461, 1: 0.24824615384615384}"
            ]
          },
          "metadata": {},
          "execution_count": 36
        }
      ]
    },
    {
      "cell_type": "markdown",
      "source": [
        "And you also need to output the dictionary variable ***feature_mean_var_table*** as a pickle file, which will be examined for correctness.\n",
        "> Note: Since this is for checking the implementation of the build_table method, please ensure that the input for your table building, ***X and y,*** is taken from the provided hw2_advanced_training.csv file ***BEFORE*** splitting the dataset into training and validation sets.\n",
        "\n",
        "> Hint: Two values for you to check the implementation correctness:\n",
        "\n",
        "\n",
        "> `gnb_classifier.feature_mean_var_table[0]['bmi']['mean']` is\n",
        "-0.10014\n",
        "\n",
        "> `gnb_classifier.feature_mean_var_table[0]['bmi']['var']` is\n",
        "0.90803"
      ],
      "metadata": {
        "id": "RC-bk7gT-2Ts"
      }
    },
    {
      "cell_type": "code",
      "source": [
        "# *** 10/18 update: the value of ***\n",
        "if round(gnb_classifier.feature_mean_var_table[0]['bmi']['mean'], 5) == 28.61544 and \\\n",
        "   round(gnb_classifier.feature_mean_var_table[0]['bmi']['var'], 5) == 63.57263:\n",
        "    print('pass')\n",
        "else:\n",
        "    print('fail')"
      ],
      "metadata": {
        "colab": {
          "base_uri": "https://localhost:8080/"
        },
        "id": "yRYzPyNIEU0l",
        "outputId": "b981854d-24c2-4a16-f3a7-963a26c2817b"
      },
      "execution_count": 37,
      "outputs": [
        {
          "output_type": "stream",
          "name": "stdout",
          "text": [
            "pass\n"
          ]
        }
      ]
    },
    {
      "cell_type": "code",
      "source": [
        "# TODO: change your path to save the pickle file\n",
        "pickle_file_path = 'hw2_advanced_table'\n",
        "with open(pickle_file_path, 'wb') as table_file:\n",
        "    pickle.dump(gnb_classifier.feature_mean_var_table, table_file)\n",
        "    table_file.close()"
      ],
      "metadata": {
        "id": "zDJLzdxqEUXN"
      },
      "execution_count": 38,
      "outputs": []
    },
    {
      "cell_type": "markdown",
      "source": [
        "## Step 4 Improve the classifier for Ranking 15%:\n",
        "\n",
        "To make your model have better performance, you can try different ways to modify your model.\n",
        "\n",
        "> hints (**you don't need to follow the hints**):\n",
        "\n",
        "1. You can deal with the **outliers**\n",
        "2. You can try first **converting real numbers into discrete values** and then using Naive Bayesian for classification.\n",
        "3. You can try **def a new class for giving the prior a different weight** for decision-making.\n",
        "4. Anything you want to try based on Bayesian.\n",
        "\n",
        "> Note: You need to consider what kind of operations should also be performed on the testing_df."
      ],
      "metadata": {
        "id": "xV_-5sKla5Gi"
      }
    },
    {
      "cell_type": "code",
      "source": [
        "# TODO: you can try the hints written above to get higher ranking score\n",
        "\n",
        "# training_df = pd.read_csv('hw2_advanced_training.csv') # TODO: modify your file path\n",
        "# testing_df = pd.read_csv('hw2_advanced_testing.csv') # TODO: modify your file path\n",
        "# Note: **you can change the order of following steps if you want**\n",
        "# Note: **BUT, please make sure you have saved 'hw2_advanced_table' for submission BEFORE making the following improvements.**\n",
        "\n",
        "# ... # hints(optional): deal with outliers\n",
        "# ... # hints(optional): converting real numbers into discrete values\n",
        "# ... # hints(optional): def a new class for giving the prior a different weight\n",
        "# ... # hints: Split the data into training and validation sets\n",
        "# ... # hints: build table for Bayesian Classifier\n",
        "# ... # anything you want to try based on Bayesian"
      ],
      "metadata": {
        "id": "T0ZTX6Oca-3G"
      },
      "execution_count": null,
      "outputs": []
    },
    {
      "cell_type": "code",
      "source": [
        "class GaussianNaiveBayesian_Pers:\n",
        "    def build_table(self, X, y):\n",
        "        # classes for ground truth: there are only negative(0) and positive(1) for y (hospital_death)\n",
        "        self.classes = np.unique(y)\n",
        "        # record prior for two classes\n",
        "        self.class_priors = {}\n",
        "        # **feature_mean_var_table** is a 3D dictionary table:\n",
        "        # structure: [class]    [feature]           ['mean'] = mean\n",
        "        # structure: [class]    [feature]           ['var']  = var\n",
        "        # example:   [0]        ['gcs_eyes_apache'] ['mean'] = mean for feature='gcs_eyes_apache' when hospital_death=0\n",
        "        # example:   [0]        ['gcs_eyes_apache'] ['var']  = var for feature='gcs_eyes_apache' when hospital_death=0\n",
        "        self.feature_mean_var_table = {}\n",
        "        for c in self.classes:\n",
        "            X_c = X[y == c]\n",
        "            #Add Laplace Smoothing [ (len(X_c)+1)/(len(X)+1*2) ]\n",
        "            Lambda = 1000000000\n",
        "            self.class_priors[c] = (len(X_c)+Lambda)/(len(X)+Lambda*2) # TODO: calculate prior\n",
        "            self.feature_mean_var_table[c] = {}\n",
        "            for feature in X.columns:\n",
        "                self.feature_mean_var_table[c][feature] = {}\n",
        "                # Calculate mean and var for each feature\n",
        "                self.feature_mean_var_table[c][feature]['mean'] = round(np.mean(X_c[feature]), 5)# TDOO: calculate the mean\n",
        "                # np.sum(X_c[feature])/len(X_c[feature])\n",
        "                self.feature_mean_var_table[c][feature]['var'] = round(np.var(X_c[feature], ddof=1), 5)# TODO: calculate the var\n",
        "\n",
        "    def _calculate_likelihood(self, x, mean, var):\n",
        "        currentsd = np.sqrt(var)\n",
        "        likehood_gauss = ( 1/(math.sqrt(2*math.pi*var)) ) * ( math.exp( -( (x-mean)**2 / (2*var)) ) )\n",
        "        # print(likehood_gauss)\n",
        "        return likehood_gauss # TODO: calculate the Gaussian (normal) distribution pdf function as likelihoo\n",
        "\n",
        "    def predict(self, X):\n",
        "        predictions = [self._predict(x) for x in X.to_dict(orient='records')]\n",
        "        return predictions\n",
        "\n",
        "    def _predict(self, x):\n",
        "        log_posteriors = []\n",
        "        # this for loop implement: log(posteior) = log(prior) + log(likelihood)\n",
        "        for c in self.classes:\n",
        "            log_prior = np.log(self.class_priors[c])\n",
        "            log_likelihood = 0\n",
        "            for feature, value in x.items():\n",
        "                currentmean = self.feature_mean_var_table[c][feature]['mean']\n",
        "                currentvar = self.feature_mean_var_table[c][feature]['var']\n",
        "                # log_likelihood += np.log(np.random.normal(currentmean, currentsd, value)) # TODO: calculate the log likelihood\n",
        "                log_likelihood += self._calculate_likelihood(value, currentmean, currentvar) # TODO: calculate the log likelihood\n",
        "            log_posterior = log_prior + log_likelihood\n",
        "            # print(\"LOGTEST\")\n",
        "            # print(log_likelihood)\n",
        "            # print(log_prior)\n",
        "            # print(log_posterior)\n",
        "            # print((c, log_posterior))\n",
        "            log_posteriors.append((c, log_posterior))\n",
        "        # print(\"PRINTING LOG LIST\")\n",
        "        # print(log_posteriors)\n",
        "        return max(log_posteriors, key = lambda i : i[1])[0] # TODO: Return the class with the highest logarithm of posterior probability as the predicted class"
      ],
      "metadata": {
        "id": "HODb-xNoAkP2"
      },
      "execution_count": 39,
      "outputs": []
    },
    {
      "cell_type": "code",
      "source": [
        "def train_val_split_AD(X, y, val_size, random_state):\n",
        "    ... # TODO: implement your own train_val_split\n",
        "    #80% Training\n",
        "    #20% Validation\n",
        "    LenDataList = len(X)\n",
        "    LenTraining = math.floor(LenDataList*val_size/100)\n",
        "    LenValidation = LenDataList - LenTraining\n",
        "    X_train = X[:LenTraining]\n",
        "    X_val = X[LenTraining:]\n",
        "    y_train = y[:LenTraining]\n",
        "    y_val = y[LenTraining:]\n",
        "\n",
        "    return X_train, X_val, y_train, y_val\n",
        "\n",
        "X_train_AD, X_val_AD, y_train_AD, y_val_AD = train_val_split_AD(X, y, 80, 0) # TODO"
      ],
      "metadata": {
        "id": "ds2waGbjoAVx"
      },
      "execution_count": 40,
      "outputs": []
    },
    {
      "cell_type": "code",
      "source": [
        "testx = X_train_AD[y_train_AD == 0]\n",
        "print(len(testx))"
      ],
      "metadata": {
        "colab": {
          "base_uri": "https://localhost:8080/"
        },
        "id": "16zEMbUS1OIH",
        "outputId": "9fb5671e-75c8-48a5-b492-008e29e518d9"
      },
      "execution_count": 41,
      "outputs": [
        {
          "output_type": "stream",
          "name": "stdout",
          "text": [
            "39050\n"
          ]
        }
      ]
    },
    {
      "cell_type": "code",
      "source": [
        "testx2 = X_train_AD[y_train_AD == 1]\n",
        "print(len(testx2))"
      ],
      "metadata": {
        "colab": {
          "base_uri": "https://localhost:8080/"
        },
        "id": "KrUuosS21Y6E",
        "outputId": "f7aa8df1-d873-4318-f164-6300977e7cdf"
      },
      "execution_count": 42,
      "outputs": [
        {
          "output_type": "stream",
          "name": "stdout",
          "text": [
            "12950\n"
          ]
        }
      ]
    },
    {
      "cell_type": "code",
      "source": [
        "len(testx2)/len(X_train_AD)"
      ],
      "metadata": {
        "colab": {
          "base_uri": "https://localhost:8080/"
        },
        "id": "fm7ipnHW3mR7",
        "outputId": "5ee8ff8b-deec-4727-f101-54b4da28e56a"
      },
      "execution_count": 43,
      "outputs": [
        {
          "output_type": "execute_result",
          "data": {
            "text/plain": [
              "0.24903846153846154"
            ]
          },
          "metadata": {},
          "execution_count": 43
        }
      ]
    },
    {
      "cell_type": "markdown",
      "source": [
        "## Step 5: Make predictions and perform evaluation\n",
        "You should test your model by evaluating the training set and validation set using the ***cal_f1_score*** function you implemented.\n"
      ],
      "metadata": {
        "id": "3VtFVxggz7I4"
      }
    },
    {
      "cell_type": "code",
      "source": [
        "def cal_f1_score_AD(y_true, y_pred):\n",
        "    # Calculate True Positives, False Positives, False Negatives\n",
        "    tp = sum(1 for true, pred in zip(y_true, y_pred) if true == 1 and pred == 1)\n",
        "    fp = sum(1 for true, pred in zip(y_true, y_pred) if true == 1 and pred == 0) # TODO: calculate the false positive\n",
        "    fn = sum(1 for true, pred in zip(y_true, y_pred) if true == 0 and pred == 1) # TODO: calculate the false negative\n",
        "    tn = sum(1 for true, pred in zip(y_true, y_pred) if true == 0 and pred == 0) # TODO: calculate the true negative\n",
        "\n",
        "    # if((tp+fp)==0):\n",
        "    #   fp = 1\n",
        "    # if((tp+fn)==0):\n",
        "    #   fn = 1\n",
        "\n",
        "\n",
        "    # Calculate precision and recall\n",
        "    print(\"TP | FP | FN | TN\")\n",
        "    print(str(tp) + ' | ' + str(fp) + ' | ' + str(fn) + ' | ' + str(tn))\n",
        "    precision = tp/(tp+fp) # TDOO: calculate the precision\n",
        "    recall = tp/(tp+fn) # TODO: calculate the recall\n",
        "\n",
        "    # if(precision+recall==0):\n",
        "    #   precision = 1\n",
        "\n",
        "    # Calculate F1-score\n",
        "    f1_score = (2*precision*recall)/(precision+recall) # TODO: calculate the f1-score\n",
        "\n",
        "    return f1_score"
      ],
      "metadata": {
        "id": "QNJkfn1oodUU"
      },
      "execution_count": 44,
      "outputs": []
    },
    {
      "cell_type": "code",
      "source": [
        "# TODO: build table on the training set\n",
        "gnb_classifier_Pers = GaussianNaiveBayesian_Pers()\n",
        "gnb_classifier_Pers.build_table(X_train_AD, y_train_AD)\n",
        "\n",
        "# TODO: Make predictions on training set and calculate the f1-score\n",
        "Y_Train_PredictionADgnb = gnb_classifier_Pers.predict(X_train_AD)\n",
        "Y_Train_ListADgnb = y_train_AD.tolist()\n",
        "Train_F1_ScoreADgnb = cal_f1_score_AD(Y_Train_PredictionADgnb, Y_Train_ListADgnb)\n",
        "# cal_f1_score_AD(Y_Train_PredictionADgnb, Y_Train_ListADgnb)\n",
        "\n",
        "# # TODO: Make predictions on validation set and calculate the f1-score\n",
        "Y_Valid_PredictionADgnb = gnb_classifier_Pers.predict(X_val_AD)\n",
        "Y_Valid_ListADgnb = y_val_AD.tolist()\n",
        "Valid_F1_ScoreADgnb = cal_f1_score_AD(Y_Valid_PredictionADgnb, Y_Valid_ListADgnb)\n",
        "\n",
        "# Testing Prediction to All Dataset\n",
        "Y_ALL_PREDICT_AD_GNB = gnb_classifier_Pers.predict(X)\n",
        "Y_ALL_LIST_AD_GNB = y.tolist()\n",
        "ALL_F1_SCORE_AD_GNB = cal_f1_score_AD(Y_ALL_PREDICT_AD_GNB, Y_ALL_LIST_AD_GNB)\n",
        "\n",
        "# X_train_AD, X_val_AD, y_train_AD, y_val_AD"
      ],
      "metadata": {
        "id": "415sqX0D_jFY",
        "colab": {
          "base_uri": "https://localhost:8080/"
        },
        "outputId": "5cd5c9d1-9a59-48dc-f6c5-486406828145"
      },
      "execution_count": 45,
      "outputs": [
        {
          "output_type": "stream",
          "name": "stdout",
          "text": [
            "TP | FP | FN | TN\n",
            "5533 | 8862 | 7417 | 30188\n",
            "TP | FP | FN | TN\n",
            "1371 | 2177 | 1815 | 7637\n",
            "TP | FP | FN | TN\n",
            "6904 | 11039 | 9232 | 37825\n"
          ]
        }
      ]
    },
    {
      "cell_type": "code",
      "source": [
        "gnb_classifier_Pers.feature_mean_var_table"
      ],
      "metadata": {
        "colab": {
          "base_uri": "https://localhost:8080/"
        },
        "id": "3DwL_iSI1mny",
        "outputId": "891f201b-408d-4c36-fa71-d87f79ad5e04"
      },
      "execution_count": 46,
      "outputs": [
        {
          "output_type": "execute_result",
          "data": {
            "text/plain": [
              "{0: {'age': {'mean': 61.97519, 'var': 292.96809},\n",
              "  'bmi': {'mean': 28.62505, 'var': 63.5693},\n",
              "  'glucose_apache': {'mean': 142.03088, 'var': 5438.23959}},\n",
              " 1: {'age': {'mean': 64.49135, 'var': 207.05943},\n",
              "  'bmi': {'mean': 31.999, 'var': 81.01078},\n",
              "  'glucose_apache': {'mean': 219.87574, 'var': 12824.23284}}}"
            ]
          },
          "metadata": {},
          "execution_count": 46
        }
      ]
    },
    {
      "cell_type": "code",
      "source": [
        "gnb_classifier_Pers.class_priors"
      ],
      "metadata": {
        "colab": {
          "base_uri": "https://localhost:8080/"
        },
        "id": "718PONPy1rXz",
        "outputId": "46379639-419b-4426-9b32-7ebefb7f3b20"
      },
      "execution_count": 47,
      "outputs": [
        {
          "output_type": "execute_result",
          "data": {
            "text/plain": [
              "{0: 0.5000065248303545, 1: 0.4999934751696456}"
            ]
          },
          "metadata": {},
          "execution_count": 47
        }
      ]
    },
    {
      "cell_type": "markdown",
      "source": [
        "Normal= {0: 0.7509615384615385, 1: 0.24903846153846154}\n",
        "\n",
        "λ:1 = {0: 0.7509518864659052, 1: 0.24904811353409484}\n",
        "\n",
        "λ:10 = {0: 0.7509518864659052, 1: 0.24904811353409484}\n",
        "\n",
        "λ:1000 = {0: 0.7416666666666667, 1: 0.25833333333333336}\n",
        "\n",
        "λ:1000 000 000 = {0: 0.5000065248303545, 1: 0.4999934751696456} [0.40]"
      ],
      "metadata": {
        "id": "vChZzKUmFaxy"
      }
    },
    {
      "cell_type": "code",
      "source": [
        "print(\"Train: \", end='')\n",
        "print(Train_F1_ScoreADgnb)\n",
        "print(\"Valid: \", end='')\n",
        "print(Valid_F1_ScoreADgnb)\n",
        "print(\"All: \", end='')\n",
        "print(ALL_F1_SCORE_AD_GNB)"
      ],
      "metadata": {
        "colab": {
          "base_uri": "https://localhost:8080/"
        },
        "id": "dUpY1iNgupG8",
        "outputId": "1b1ab702-9b2f-4f24-9edd-2db154eb54ad"
      },
      "execution_count": 48,
      "outputs": [
        {
          "output_type": "stream",
          "name": "stdout",
          "text": [
            "Train: 0.404680928871823\n",
            "Valid: 0.4071874071874072\n",
            "All: 0.4051762082220723\n"
          ]
        }
      ]
    },
    {
      "cell_type": "markdown",
      "source": [
        "## Step 6: Generate result\n",
        "> Note: Please follow the format mentioned in the slides. You can only change the path for saving your code down below.\n"
      ],
      "metadata": {
        "id": "LJWF-tfA_Q9d"
      }
    },
    {
      "cell_type": "code",
      "source": [
        "predictions = gnb_classifier_Pers.predict(testing_df) # TODO: predict on the testing_df\n",
        "\n",
        "# TODO: Specify the CSV file path\n",
        "csv_file_path = 'hw2_advanced_prediction.csv'\n",
        "\n",
        "# Write the predictions to the CSV file\n",
        "with open(csv_file_path, 'w', newline='') as csv_file:\n",
        "    writer = csv.writer(csv_file)\n",
        "    writer.writerow(['diabetes_mellitus'])\n",
        "    for prediction in predictions:\n",
        "        writer.writerow([prediction])"
      ],
      "metadata": {
        "id": "ZX6FV9tRK6Fp"
      },
      "execution_count": 50,
      "outputs": []
    },
    {
      "cell_type": "markdown",
      "source": [
        "# Report *(5%)*\n",
        "\n",
        "Report should be submitted as a pdf file **hw2_report.pdf**\n",
        "\n",
        "* Briefly describe why we take log when implement the Bayesian classifier? (1%)\n",
        "* Briefly describe the difference between Naïve Bayesian and Gaussian Naïve Bayesian classifier? (1%)\n",
        "* Briefly describe the difficulty you encountered (1%)\n",
        "* Summarize how you solve the difficulty and your reflections (2%)\n",
        "* **No more than one page**"
      ],
      "metadata": {
        "id": "17MKZrvgSQMK"
      }
    },
    {
      "cell_type": "markdown",
      "source": [
        "# Save the Code File\n",
        "Please save your code and submit it as an ipynb file! (**hw2.ipynb**)"
      ],
      "metadata": {
        "id": "j4P5yTr4Sa3k"
      }
    },
    {
      "cell_type": "markdown",
      "source": [
        "# Submission:\n",
        "1. hw2_basic_prediction.csv\n",
        "2. hw2_basic_table: **make sure you build_table BEFORE split train_val set, and pass the given example**\n",
        "3. hw2_advanced_prediction.csv\n",
        "4. hw2_advanced_table: **make sure you build_table BEFORE split train_val set or pre-processing, and pass the given example**\n",
        "5. hw2.ipynb\n",
        "6. hw2_report.pdf"
      ],
      "metadata": {
        "id": "I24lVr726Y2h"
      }
    }
  ]
}